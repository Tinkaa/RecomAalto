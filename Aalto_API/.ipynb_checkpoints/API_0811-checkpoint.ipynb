{
 "cells": [
  {
   "cell_type": "markdown",
   "metadata": {},
   "source": [
    "### Retrieving course data from Aalto API\n",
    "This notebook uses the Aalto API to retrieve information on courses from the course API (https://3scale.ocp.aalto.fi/).\n",
    "It first retrieves the whole course list which contains all the course ids. \n",
    "Then it retrieves the info of all the courses one by one by using this course list.\n",
    "\n",
    "Getting the whole course list is quick. However, getting the info for all the courses takes long. Because the number of API calls is restricted to 5 per minute. "
   ]
  },
  {
   "cell_type": "code",
   "execution_count": 93,
   "metadata": {},
   "outputs": [],
   "source": [
    "#import the needed packages\n",
    "import requests\n",
    "import json\n",
    "import time"
   ]
  },
  {
   "cell_type": "code",
   "execution_count": 94,
   "metadata": {},
   "outputs": [],
   "source": [
    "#authentication key for API (connected to Aalto account, personal)\n",
    "#auth_key=.."
   ]
  },
  {
   "cell_type": "markdown",
   "metadata": {},
   "source": [
    "#### Get course list"
   ]
  },
  {
   "cell_type": "code",
   "execution_count": 13,
   "metadata": {},
   "outputs": [],
   "source": [
    "#from which starting date to consider courses\n",
    "time_after='2017-01-09'\n",
    "\n",
    "#call the API\n",
    "response = requests.get(\"https://api.aalto.fi:443/api/courselist/?user_key=%s&unitType=course&startTimeAfter=%s\"%(auth_key,time_after))\n",
    "#convert to JSON (best format for processing/saving)\n",
    "course_list=response.json()\n",
    "#save to file\n",
    "with open('../Data/course_list.json', 'w') as outfile:\n",
    "    json.dump(course_list, outfile)"
   ]
  },
  {
   "cell_type": "code",
   "execution_count": 17,
   "metadata": {},
   "outputs": [],
   "source": [
    "# Only needed to do this when not just retrieved the course list\n",
    "#open course list file\n",
    "# #now opening file from 23-10\n",
    "# with open('../Data/course_list_2310.json') as json_data:\n",
    "#     course_list = json.load(json_data)"
   ]
  },
  {
   "cell_type": "code",
   "execution_count": 18,
   "metadata": {},
   "outputs": [
    {
     "name": "stdout",
     "output_type": "stream",
     "text": [
      "Number of courses: 2661\n"
     ]
    }
   ],
   "source": [
    "#funny, when getting the courses on 07-11, there are about 100 less courses than on 23-10. Expected opposite\n",
    "print(\"Number of courses:\",len(course_list))"
   ]
  },
  {
   "cell_type": "markdown",
   "metadata": {},
   "source": [
    "#### Get info per course"
   ]
  },
  {
   "cell_type": "code",
   "execution_count": null,
   "metadata": {},
   "outputs": [],
   "source": [
    "# Open the course info already retrieved before\n",
    "#only needed when don't wanna start 'clean\n",
    "# with open('../Data/courses_all.json') as json_data:\n",
    "#     course_info = json.load(json_data)"
   ]
  },
  {
   "cell_type": "code",
   "execution_count": 19,
   "metadata": {},
   "outputs": [],
   "source": [
    "#initialize starting point\n",
    "# if using part of already retrieved data, change this!\n",
    "course_info_all=[]#course_info\n",
    "last=0#1404"
   ]
  },
  {
   "cell_type": "code",
   "execution_count": null,
   "metadata": {},
   "outputs": [],
   "source": [
    "while last<len(course_list):\n",
    "    #call api\n",
    "    course_info=requests.get(\"https://api.aalto.fi:443/api/courseunitrealisations/%s?user_key=%s\"%(course_list[last]['id'],auth_key))\n",
    "    print(course_info.status_code)\n",
    "    try:\n",
    "        course_info_json=course_info.json()\n",
    "        course_info_all.append(course_info_json)\n",
    "    except:\n",
    "        #sometimes the id cannot be found, e.g. after update course list. This prevents code from terminating in those cases\n",
    "        print(\"didn't work\",last)\n",
    "    \n",
    "    print(last)\n",
    "    last+=1\n",
    "    #because can only make 5 calls per minute, let it sleep for one minute every 4 calls\n",
    "    if last%4==0:\n",
    "        with open('../Data/courses_all.json', 'w') as outfile:\n",
    "            json.dump(course_info_all, outfile)\n",
    "        time.sleep(60)"
   ]
  }
 ],
 "metadata": {
  "kernelspec": {
   "display_name": "Python 3",
   "language": "python",
   "name": "python3"
  },
  "language_info": {
   "codemirror_mode": {
    "name": "ipython",
    "version": 3
   },
   "file_extension": ".py",
   "mimetype": "text/x-python",
   "name": "python",
   "nbconvert_exporter": "python",
   "pygments_lexer": "ipython3",
   "version": "3.6.3"
  }
 },
 "nbformat": 4,
 "nbformat_minor": 2
}
