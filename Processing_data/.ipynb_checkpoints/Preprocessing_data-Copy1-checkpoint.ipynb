{
 "cells": [
  {
   "cell_type": "code",
   "execution_count": 8,
   "metadata": {},
   "outputs": [],
   "source": [
    "import json\n",
    "import numpy as np\n",
    "import time\n",
    "import pandas as pd\n",
    "#for nicely displaying dataframe\n",
    "from IPython.display import display\n",
    "from copy import deepcopy\n",
    "import langid"
   ]
  },
  {
   "cell_type": "code",
   "execution_count": 9,
   "metadata": {},
   "outputs": [],
   "source": [
    "with open('../Data/courses_all.json') as json_data:\n",
    "    course_info = json.load(json_data)"
   ]
  },
  {
   "cell_type": "code",
   "execution_count": 10,
   "metadata": {},
   "outputs": [
    {
     "name": "stdout",
     "output_type": "stream",
     "text": [
      "number of courses in course info: 2659\n"
     ]
    }
   ],
   "source": [
    "print(\"number of courses in course info:\",len(course_info))"
   ]
  },
  {
   "cell_type": "code",
   "execution_count": 11,
   "metadata": {},
   "outputs": [
    {
     "data": {
      "text/plain": [
       "{'code': '20E99904',\n",
       " 'courseUnitId': '1125574316',\n",
       " 'credits': '6',\n",
       " 'endDate': '2018-11-28',\n",
       " 'id': '1133537977',\n",
       " 'languageOfInstructionCodes': ['en'],\n",
       " 'name': {'en': 'Capstone: Business Development Project',\n",
       "  'fi': 'Capstone: Business Development Project',\n",
       "  'sv': 'Capstone: Business Development Project'},\n",
       " 'organizationId': 'E701',\n",
       " 'startDate': '2018-09-19',\n",
       " 'summary': {'additionalInformation': {'en': '',\n",
       "   'fi': 'Compulsory attendance in all class sessions and meetings. Most Master¿s Programme studies have to be completed before you can enroll on the Capstone course. The maximum number of students is 50, but only eligible candidates will be admitted even if the maximum number is not reached. Credit transfer and capstone course Students can, on legitimate grounds (Eg. exchange studies abroad, serious illness; however, working life and its restraints are not considered legitimate reasons not to complete the capstone course), apply for a credit transfer for a capstone course. However, as a deviation from the common process of credit transfer at the School of Business, the application for credit transfer must be submitted before completing the course represented to substitute the capstone course at the School of Business. The credit transfer should be applied for according to the credit transfer instructions depicted at Into: https://into.aalto.fi/display/enmasterbiz/Credit+transfer. Based on the credit transfer application, the teacher in charge of the capstone course will decide whether the learning goals for the capstone course can be fulfilled by completing the course the student has represented to substitute the capstone course. The substituting course cannot be a School of Business course.',\n",
       "   'sv': ''},\n",
       "  'assesmentMethods': {'en': '',\n",
       "   'fi': '100 % assignments (group and individual)',\n",
       "   'sv': ''},\n",
       "  'cefrLevel': {'en': '', 'fi': '', 'sv': ''},\n",
       "  'content': {'en': '',\n",
       "   'fi': 'The course consists of an applied, real-life problem-based project/case that students identify, analyze and solve in multi-disciplinary teams. It also focuses on developing the students¿ self-awareness of the key learnings during their studies in the Master¿s Program.',\n",
       "   'sv': ''},\n",
       "  'courseStatus': {'en': '',\n",
       "   'fi': 'Mandatory course in the Master¿s programs of Business Law, Corporate Communication, Entrepreneurship & Innovation Management and Management & International Business',\n",
       "   'sv': ''},\n",
       "  'gradingScale': {'en': '', 'fi': '0 (fail) -5 (excellent)', 'sv': ''},\n",
       "  'homepage': {'en': '',\n",
       "   'fi': 'https://mycourses.aalto.fi/course/search.php?search=20E99904',\n",
       "   'sv': ''},\n",
       "  'languageOfInstruction': {'en': '', 'fi': 'English', 'sv': ''},\n",
       "  'learningOutcomes': {'en': '',\n",
       "   'fi': 'After completing the course, students will be able to identify, analyse and solve real-life business problems from a multi-disciplinary viewpointapply the knowledge and skills gained during their studies to real-life business tasks and challengesmanage complex projects and work in diverse teamspresent a case report both orally and in writingcritically reflect on their learning process and outcomes',\n",
       "   'sv': ''},\n",
       "  'level': {'en': '',\n",
       "   'fi': 'Advanced specialisation studies. Most Master¿s Program studies have to be completed before one can enroll on Capstone',\n",
       "   'sv': ''},\n",
       "  'literature': {'en': '', 'fi': '', 'sv': ''},\n",
       "  'prerequisities': {'en': '',\n",
       "   'fi': 'Most Master¿s Programme studies have to be completed before one can enroll on the Capstone course.',\n",
       "   'sv': ''},\n",
       "  'registration': {'en': '', 'fi': 'via WebOodi.', 'sv': ''},\n",
       "  'substitutes': {'en': '',\n",
       "   'fi': 'Students can replace this capstone course by participating in Hackathon course: 57E00700 Capstone: Digital ISM Challenge. CEMS MIM students can replace this capstone with\\xa042E05400 CEMS Business Project. Capstone 20E99904 subsitutes the old courses 21E99904 Capstone: Business Development Project (Management and International Business), 25E99904 Capstone: Business Development Project (Entrepreneurship), 32E99904 Capstone: Business Development Project (Business Law), 75E99904 Capstone: Business Development Project (Corporate Communication)',\n",
       "   'sv': ''},\n",
       "  'teacherInCharge': {'en': '',\n",
       "   'fi': \"Perttu KähäriNina GranqvistPaulina JunniGregory O'SheaPekka PälliIiris Saittakari\",\n",
       "   'sv': ''},\n",
       "  'teachingPeriod': {'en': '',\n",
       "   'fi': 'Periods I-II Töölö campus, periods IV-V Otaniemi campus (2018-2019) Periods I-II, IV-V (2019-2020), Otaniemi campus a 10-week course organised both in the spring and in the fall',\n",
       "   'sv': ''},\n",
       "  'workload': {'en': '',\n",
       "   'fi': 'Contact teaching :10-15 h (incl. closing seminar with presentations)Independent work in teams and individually:145 - 150 h',\n",
       "   'sv': ''}},\n",
       " 'teachers': ['Perttu Kähäri',\n",
       "  'Laura Peni',\n",
       "  'Pekka Pälli',\n",
       "  'Iiris Saittakari',\n",
       "  'Patrick Shulist',\n",
       "  'Nina Granqvist'],\n",
       " 'type': 'course'}"
      ]
     },
     "execution_count": 11,
     "metadata": {},
     "output_type": "execute_result"
    }
   ],
   "source": [
    "#display example\n",
    "course_info[2]"
   ]
  },
  {
   "cell_type": "code",
   "execution_count": 12,
   "metadata": {},
   "outputs": [],
   "source": [
    "def sel_lang(entry):\n",
    "    if entry['en']!='':\n",
    "        result=entry['en']\n",
    "    elif entry['fi']!='':\n",
    "        result=entry['fi']\n",
    "    elif entry['sv']!='':\n",
    "        result=entry['sv']\n",
    "    else:\n",
    "        result=''\n",
    "    return result\n",
    "\n",
    "d=deepcopy(course_info)\n",
    "for i in range(len(course_info)):\n",
    "    for k in d[i].keys():\n",
    "        if type(d[i][k])==type(dict()):\n",
    "            if len(d[i][k].keys())==3:\n",
    "                course_info[i][k]=sel_lang(d[i][k])\n",
    "            else: \n",
    "                for j in d[i][k].keys():\n",
    "                    course_info[i][j]=sel_lang(d[i][k][j])\n",
    "                del course_info[i][k]\n",
    "        elif k=='languageOfInstructionCodes':\n",
    "            if 'en' in course_info[i][k]:\n",
    "                course_info[i]['availableEnglish']=True\n",
    "            else:\n",
    "                course_info[i]['availableEnglish']=False"
   ]
  },
  {
   "cell_type": "code",
   "execution_count": 13,
   "metadata": {},
   "outputs": [],
   "source": [
    "df=pd.DataFrame(course_info)"
   ]
  },
  {
   "cell_type": "code",
   "execution_count": 14,
   "metadata": {},
   "outputs": [
    {
     "data": {
      "text/html": [
       "<div>\n",
       "<style scoped>\n",
       "    .dataframe tbody tr th:only-of-type {\n",
       "        vertical-align: middle;\n",
       "    }\n",
       "\n",
       "    .dataframe tbody tr th {\n",
       "        vertical-align: top;\n",
       "    }\n",
       "\n",
       "    .dataframe thead th {\n",
       "        text-align: right;\n",
       "    }\n",
       "</style>\n",
       "<table border=\"1\" class=\"dataframe\">\n",
       "  <thead>\n",
       "    <tr style=\"text-align: right;\">\n",
       "      <th></th>\n",
       "      <th>additionalInformation</th>\n",
       "      <th>assesmentMethods</th>\n",
       "      <th>availableEnglish</th>\n",
       "      <th>cefrLevel</th>\n",
       "      <th>code</th>\n",
       "      <th>content</th>\n",
       "      <th>courseStatus</th>\n",
       "      <th>courseUnitId</th>\n",
       "      <th>credits</th>\n",
       "      <th>endDate</th>\n",
       "      <th>...</th>\n",
       "      <th>organizationId</th>\n",
       "      <th>prerequisities</th>\n",
       "      <th>registration</th>\n",
       "      <th>startDate</th>\n",
       "      <th>substitutes</th>\n",
       "      <th>teacherInCharge</th>\n",
       "      <th>teachers</th>\n",
       "      <th>teachingPeriod</th>\n",
       "      <th>type</th>\n",
       "      <th>workload</th>\n",
       "    </tr>\n",
       "  </thead>\n",
       "  <tbody>\n",
       "    <tr>\n",
       "      <th>0</th>\n",
       "      <td></td>\n",
       "      <td>1.    Luennot ja ohjaustapaaminen2.    Ajanhal...</td>\n",
       "      <td>False</td>\n",
       "      <td></td>\n",
       "      <td>20A00511</td>\n",
       "      <td>oppimis- ja opiskelutaidot, tiedonhakukoulutus...</td>\n",
       "      <td>KTK-tutkinto, Liiketoimintaosaamisen perusteet...</td>\n",
       "      <td>1113134889</td>\n",
       "      <td>1</td>\n",
       "      <td>2019-04-03</td>\n",
       "      <td>...</td>\n",
       "      <td>E700</td>\n",
       "      <td></td>\n",
       "      <td>WebOodi-ilmoittautuminen. Katso ilmoittautumis...</td>\n",
       "      <td>2018-09-18</td>\n",
       "      <td>Kurssin tapaamiskerrasta voi saada vapautuksen...</td>\n",
       "      <td>Anni Rintala</td>\n",
       "      <td>[Anni Rintala, Inka Pulkkinen]</td>\n",
       "      <td>I-V (2018-2020)</td>\n",
       "      <td>course</td>\n",
       "      <td>Osallistuminen luennoille ja ohjaustapaamiseen...</td>\n",
       "    </tr>\n",
       "    <tr>\n",
       "      <th>1</th>\n",
       "      <td>Kurssin lähipäivillä on pakollinen läsnäolo. M...</td>\n",
       "      <td>Harjoitustyöt 100%.</td>\n",
       "      <td>False</td>\n",
       "      <td></td>\n",
       "      <td>20C00201</td>\n",
       "      <td>Kurssin aikana opiskelija oppii käytännönlähei...</td>\n",
       "      <td>KTK-tutkinto, vapaasti valittavat opinnot</td>\n",
       "      <td>1128567674</td>\n",
       "      <td>1</td>\n",
       "      <td>2018-12-18</td>\n",
       "      <td>...</td>\n",
       "      <td>E706</td>\n",
       "      <td></td>\n",
       "      <td>WebOodi</td>\n",
       "      <td>2018-12-17</td>\n",
       "      <td></td>\n",
       "      <td>KTT Christa Uusi-Rauva</td>\n",
       "      <td>[Christa Uusi-Rauva]</td>\n",
       "      <td>Kurssi järjestetään 17.-18.12.2018</td>\n",
       "      <td>course</td>\n",
       "      <td>Lähiopetus: 15 tuntia; pakollinen läsnäolo Har...</td>\n",
       "    </tr>\n",
       "    <tr>\n",
       "      <th>2</th>\n",
       "      <td>Compulsory attendance in all class sessions an...</td>\n",
       "      <td>100 % assignments (group and individual)</td>\n",
       "      <td>True</td>\n",
       "      <td></td>\n",
       "      <td>20E99904</td>\n",
       "      <td>The course consists of an applied, real-life p...</td>\n",
       "      <td>Mandatory course in the Master¿s programs of B...</td>\n",
       "      <td>1125574316</td>\n",
       "      <td>6</td>\n",
       "      <td>2018-11-28</td>\n",
       "      <td>...</td>\n",
       "      <td>E701</td>\n",
       "      <td>Most Master¿s Programme studies have to be com...</td>\n",
       "      <td>via WebOodi.</td>\n",
       "      <td>2018-09-19</td>\n",
       "      <td>Students can replace this capstone course by p...</td>\n",
       "      <td>Perttu KähäriNina GranqvistPaulina JunniGregor...</td>\n",
       "      <td>[Perttu Kähäri, Laura Peni, Pekka Pälli, Iiris...</td>\n",
       "      <td>Periods I-II Töölö campus, periods IV-V Otanie...</td>\n",
       "      <td>course</td>\n",
       "      <td>Contact teaching :10-15 h (incl. closing semin...</td>\n",
       "    </tr>\n",
       "    <tr>\n",
       "      <th>3</th>\n",
       "      <td>Compulsory attendance in all class sessions an...</td>\n",
       "      <td>100 % assignments (group and individual)</td>\n",
       "      <td>True</td>\n",
       "      <td></td>\n",
       "      <td>20E99904</td>\n",
       "      <td>The course consists of an applied, real-life p...</td>\n",
       "      <td>Mandatory course in the Master¿s programs of B...</td>\n",
       "      <td>1125574316</td>\n",
       "      <td>6</td>\n",
       "      <td>2019-05-15</td>\n",
       "      <td>...</td>\n",
       "      <td>E701</td>\n",
       "      <td>Most Master¿s Programme studies have to be com...</td>\n",
       "      <td>via WebOodi.</td>\n",
       "      <td>2019-02-27</td>\n",
       "      <td>Students can replace this capstone course by p...</td>\n",
       "      <td>Perttu KähäriNina GranqvistPaulina JunniGregor...</td>\n",
       "      <td>[Paulina Junni, Pekka Pälli, Gregory O'Shea, I...</td>\n",
       "      <td>Periods I-II Töölö campus, periods IV-V Otanie...</td>\n",
       "      <td>course</td>\n",
       "      <td>Contact teaching :10-15 h (incl. closing semin...</td>\n",
       "    </tr>\n",
       "    <tr>\n",
       "      <th>4</th>\n",
       "      <td></td>\n",
       "      <td>1. Luennot 36 h. Professorit Nina Granqvist ja...</td>\n",
       "      <td>False</td>\n",
       "      <td></td>\n",
       "      <td>21A00110</td>\n",
       "      <td>Organisaatiot ovat toiminnan perusyksikkö ¿ sy...</td>\n",
       "      <td>KTK-tutkinto, liiketoimintaosaamisen perusteet.</td>\n",
       "      <td>1013558549</td>\n",
       "      <td>6</td>\n",
       "      <td>2019-04-09</td>\n",
       "      <td>...</td>\n",
       "      <td>E706</td>\n",
       "      <td>Ei ennakkovaatimuksia</td>\n",
       "      <td>WebOodissa</td>\n",
       "      <td>2019-02-25</td>\n",
       "      <td></td>\n",
       "      <td>Nina GranqvistOlli-Pekka Kauppila</td>\n",
       "      <td>[Nina Granqvist]</td>\n",
       "      <td>IV periodi 2018-2019 Otaniemi kampusIV periodi...</td>\n",
       "      <td>course</td>\n",
       "      <td>Osallistuminen luennoille 36 hValmistautuminen...</td>\n",
       "    </tr>\n",
       "  </tbody>\n",
       "</table>\n",
       "<p>5 rows × 29 columns</p>\n",
       "</div>"
      ],
      "text/plain": [
       "                               additionalInformation  \\\n",
       "0                                                      \n",
       "1  Kurssin lähipäivillä on pakollinen läsnäolo. M...   \n",
       "2  Compulsory attendance in all class sessions an...   \n",
       "3  Compulsory attendance in all class sessions an...   \n",
       "4                                                      \n",
       "\n",
       "                                    assesmentMethods  availableEnglish  \\\n",
       "0  1.    Luennot ja ohjaustapaaminen2.    Ajanhal...             False   \n",
       "1                                Harjoitustyöt 100%.             False   \n",
       "2           100 % assignments (group and individual)              True   \n",
       "3           100 % assignments (group and individual)              True   \n",
       "4  1. Luennot 36 h. Professorit Nina Granqvist ja...             False   \n",
       "\n",
       "  cefrLevel      code                                            content  \\\n",
       "0            20A00511  oppimis- ja opiskelutaidot, tiedonhakukoulutus...   \n",
       "1            20C00201  Kurssin aikana opiskelija oppii käytännönlähei...   \n",
       "2            20E99904  The course consists of an applied, real-life p...   \n",
       "3            20E99904  The course consists of an applied, real-life p...   \n",
       "4            21A00110  Organisaatiot ovat toiminnan perusyksikkö ¿ sy...   \n",
       "\n",
       "                                        courseStatus courseUnitId credits  \\\n",
       "0  KTK-tutkinto, Liiketoimintaosaamisen perusteet...   1113134889       1   \n",
       "1          KTK-tutkinto, vapaasti valittavat opinnot   1128567674       1   \n",
       "2  Mandatory course in the Master¿s programs of B...   1125574316       6   \n",
       "3  Mandatory course in the Master¿s programs of B...   1125574316       6   \n",
       "4    KTK-tutkinto, liiketoimintaosaamisen perusteet.   1013558549       6   \n",
       "\n",
       "      endDate                        ...                          \\\n",
       "0  2019-04-03                        ...                           \n",
       "1  2018-12-18                        ...                           \n",
       "2  2018-11-28                        ...                           \n",
       "3  2019-05-15                        ...                           \n",
       "4  2019-04-09                        ...                           \n",
       "\n",
       "  organizationId                                     prerequisities  \\\n",
       "0           E700                                                      \n",
       "1           E706                                                      \n",
       "2           E701  Most Master¿s Programme studies have to be com...   \n",
       "3           E701  Most Master¿s Programme studies have to be com...   \n",
       "4           E706                              Ei ennakkovaatimuksia   \n",
       "\n",
       "                                        registration   startDate  \\\n",
       "0  WebOodi-ilmoittautuminen. Katso ilmoittautumis...  2018-09-18   \n",
       "1                                            WebOodi  2018-12-17   \n",
       "2                                       via WebOodi.  2018-09-19   \n",
       "3                                       via WebOodi.  2019-02-27   \n",
       "4                                         WebOodissa  2019-02-25   \n",
       "\n",
       "                                         substitutes  \\\n",
       "0  Kurssin tapaamiskerrasta voi saada vapautuksen...   \n",
       "1                                                      \n",
       "2  Students can replace this capstone course by p...   \n",
       "3  Students can replace this capstone course by p...   \n",
       "4                                                      \n",
       "\n",
       "                                     teacherInCharge  \\\n",
       "0                                       Anni Rintala   \n",
       "1                             KTT Christa Uusi-Rauva   \n",
       "2  Perttu KähäriNina GranqvistPaulina JunniGregor...   \n",
       "3  Perttu KähäriNina GranqvistPaulina JunniGregor...   \n",
       "4                  Nina GranqvistOlli-Pekka Kauppila   \n",
       "\n",
       "                                            teachers  \\\n",
       "0                     [Anni Rintala, Inka Pulkkinen]   \n",
       "1                               [Christa Uusi-Rauva]   \n",
       "2  [Perttu Kähäri, Laura Peni, Pekka Pälli, Iiris...   \n",
       "3  [Paulina Junni, Pekka Pälli, Gregory O'Shea, I...   \n",
       "4                                   [Nina Granqvist]   \n",
       "\n",
       "                                      teachingPeriod    type  \\\n",
       "0                                    I-V (2018-2020)  course   \n",
       "1                 Kurssi järjestetään 17.-18.12.2018  course   \n",
       "2  Periods I-II Töölö campus, periods IV-V Otanie...  course   \n",
       "3  Periods I-II Töölö campus, periods IV-V Otanie...  course   \n",
       "4  IV periodi 2018-2019 Otaniemi kampusIV periodi...  course   \n",
       "\n",
       "                                            workload  \n",
       "0  Osallistuminen luennoille ja ohjaustapaamiseen...  \n",
       "1  Lähiopetus: 15 tuntia; pakollinen läsnäolo Har...  \n",
       "2  Contact teaching :10-15 h (incl. closing semin...  \n",
       "3  Contact teaching :10-15 h (incl. closing semin...  \n",
       "4  Osallistuminen luennoille 36 hValmistautuminen...  \n",
       "\n",
       "[5 rows x 29 columns]"
      ]
     },
     "execution_count": 14,
     "metadata": {},
     "output_type": "execute_result"
    }
   ],
   "source": [
    "df.head()"
   ]
  },
  {
   "cell_type": "code",
   "execution_count": 15,
   "metadata": {},
   "outputs": [],
   "source": [
    "df_adj=df.copy()"
   ]
  },
  {
   "cell_type": "code",
   "execution_count": 16,
   "metadata": {},
   "outputs": [],
   "source": [
    "df_adj=df_adj.drop_duplicates(['courseUnitId'])"
   ]
  },
  {
   "cell_type": "code",
   "execution_count": 21,
   "metadata": {},
   "outputs": [
    {
     "name": "stdout",
     "output_type": "stream",
     "text": [
      "number of unique courses: 1331\n"
     ]
    }
   ],
   "source": [
    "print('number of unique courses:',len(df_adj))"
   ]
  },
  {
   "cell_type": "code",
   "execution_count": 22,
   "metadata": {},
   "outputs": [],
   "source": [
    "df_adj=df_adj[df_adj['availableEnglish']==True]"
   ]
  },
  {
   "cell_type": "code",
   "execution_count": 23,
   "metadata": {},
   "outputs": [
    {
     "name": "stdout",
     "output_type": "stream",
     "text": [
      "number of courses available in English: 1331\n"
     ]
    }
   ],
   "source": [
    "print('number of courses available in English:',len(df_adj))"
   ]
  },
  {
   "cell_type": "code",
   "execution_count": 25,
   "metadata": {},
   "outputs": [
    {
     "data": {
      "text/plain": [
       "additionalInformation         Compulsory attendance in all class sessions an...\n",
       "assesmentMethods                       100 % assignments (group and individual)\n",
       "availableEnglish                                                           True\n",
       "cefrLevel                                                                      \n",
       "code                                                                   20E99904\n",
       "content                       The course consists of an applied, real-life p...\n",
       "courseStatus                  Mandatory course in the Master¿s programs of B...\n",
       "courseUnitId                                                         1125574316\n",
       "credits                                                                       6\n",
       "endDate                                                              2018-11-28\n",
       "gradingScale                                            0 (fail) -5 (excellent)\n",
       "homepage                      https://mycourses.aalto.fi/course/search.php?s...\n",
       "id                                                                   1133537977\n",
       "languageOfInstruction                                                   English\n",
       "languageOfInstructionCodes                                                 [en]\n",
       "learningOutcomes              After completing the course, students will be ...\n",
       "level                         Advanced specialisation studies. Most Master¿s...\n",
       "literature                                                                     \n",
       "name                                     Capstone: Business Development Project\n",
       "organizationId                                                             E701\n",
       "prerequisities                Most Master¿s Programme studies have to be com...\n",
       "registration                                                       via WebOodi.\n",
       "startDate                                                            2018-09-19\n",
       "substitutes                   Students can replace this capstone course by p...\n",
       "teacherInCharge               Perttu KähäriNina GranqvistPaulina JunniGregor...\n",
       "teachers                      [Perttu Kähäri, Laura Peni, Pekka Pälli, Iiris...\n",
       "teachingPeriod                Periods I-II Töölö campus, periods IV-V Otanie...\n",
       "type                                                                     course\n",
       "workload                      Contact teaching :10-15 h (incl. closing semin...\n",
       "Name: 2, dtype: object"
      ]
     },
     "execution_count": 25,
     "metadata": {},
     "output_type": "execute_result"
    }
   ],
   "source": [
    "df_adj.loc[2]"
   ]
  },
  {
   "cell_type": "code",
   "execution_count": 28,
   "metadata": {},
   "outputs": [],
   "source": [
    "df_adj=df_adj.reset_index()"
   ]
  },
  {
   "cell_type": "code",
   "execution_count": 29,
   "metadata": {},
   "outputs": [],
   "source": [
    "df_adj.to_csv('../Data/filtered_courses.csv')"
   ]
  },
  {
   "cell_type": "code",
   "execution_count": 31,
   "metadata": {},
   "outputs": [
    {
     "name": "stdout",
     "output_type": "stream",
     "text": [
      "Number courses Finnish description: 119\n"
     ]
    }
   ],
   "source": [
    "# some courses have as (one of the) languages English, but most of the information is only available in Finnish. \n",
    "# Delete these for now, but check why this is the case (see Questions)! \n",
    "\n",
    "num_entries=len(df_adj)\n",
    "#detect whether Finnish or English description and delete those with Finnish\n",
    "langid.set_languages(['fi', 'en'])\n",
    "for i in range(len(df_adj)):\n",
    "    lang, score = langid.classify(df_adj['content'].loc[i])\n",
    "    if lang=='fi':\n",
    "        df_adj=df_adj.drop(i)\n",
    "df_adj=df_adj.reset_index()\n",
    "\n",
    "print(\"Number courses Finnish description:\",num_entries-len(df_adj))"
   ]
  },
  {
   "cell_type": "code",
   "execution_count": 32,
   "metadata": {},
   "outputs": [
    {
     "name": "stdout",
     "output_type": "stream",
     "text": [
      "Number of courses with no description: 36\n"
     ]
    }
   ],
   "source": [
    "k=0\n",
    "for i in range(len(df_adj)):\n",
    "    if df_adj['content'].loc[i]=='':\n",
    "        k+=1\n",
    "print(\"Number of courses with no description:\",k)"
   ]
  },
  {
   "cell_type": "code",
   "execution_count": null,
   "metadata": {},
   "outputs": [],
   "source": []
  },
  {
   "cell_type": "markdown",
   "metadata": {},
   "source": [
    "### Topic modelling, Latent Dirichlet Allocation\n",
    "Note: this method should only use info that can state something about topic\n",
    "Different then e.g. word2vec where it places an entry in a vector space. I think we could use all features there??? Maybe not..\n",
    "\n",
    "Inspired by https://towardsdatascience.com/topic-modeling-and-latent-dirichlet-allocation-in-python-9bf156893c24"
   ]
  },
  {
   "cell_type": "code",
   "execution_count": 47,
   "metadata": {},
   "outputs": [],
   "source": [
    "#keys that might be used\n",
    "#'name','content','learningOutcomes','additionalInformation','courseStatus','prerequisities','substitutes'"
   ]
  },
  {
   "cell_type": "code",
   "execution_count": 48,
   "metadata": {},
   "outputs": [
    {
     "name": "stderr",
     "output_type": "stream",
     "text": [
      "/home/tinka/anaconda3/lib/python3.6/site-packages/ipykernel_launcher.py:2: SettingWithCopyWarning: \n",
      "A value is trying to be set on a copy of a slice from a DataFrame.\n",
      "Try using .loc[row_indexer,col_indexer] = value instead\n",
      "\n",
      "See the caveats in the documentation: http://pandas.pydata.org/pandas-docs/stable/indexing.html#indexing-view-versus-copy\n",
      "  \n"
     ]
    }
   ],
   "source": [
    "data_text = df_try[['name','content']]\n",
    "data_text['combined']=df_try[['name', 'content']].apply(lambda x: ' '.join(x), axis=1)\n",
    "#data_text['combined']=df_try['name']+df_try['content']\n",
    "data_text=data_text.reset_index()\n",
    "data_text['index'] = data_text.index\n",
    "documents = data_text"
   ]
  },
  {
   "cell_type": "code",
   "execution_count": 49,
   "metadata": {},
   "outputs": [],
   "source": [
    "import gensim\n",
    "from gensim.utils import simple_preprocess\n",
    "from gensim.parsing.preprocessing import STOPWORDS\n",
    "from nltk.stem import WordNetLemmatizer, SnowballStemmer\n",
    "from nltk.stem.porter import *\n",
    "import nltk\n",
    "#nltk.download('wordnet')"
   ]
  },
  {
   "cell_type": "code",
   "execution_count": 50,
   "metadata": {},
   "outputs": [],
   "source": [
    "from nltk.corpus import stopwords"
   ]
  },
  {
   "cell_type": "code",
   "execution_count": 51,
   "metadata": {},
   "outputs": [
    {
     "data": {
      "text/plain": [
       "0    [capston, busi, develop, project]\n",
       "1                    [introduct, busi]\n",
       "2              [human, resourc, manag]\n",
       "3          [current, issu, leadership]\n",
       "4                      [busi, societi]\n",
       "5              [manag, corpor, career]\n",
       "6                   [qualit, research]\n",
       "7               [gender, divers, work]\n",
       "8            [manag, merger, acquisit]\n",
       "9            [innov, process, transit]\n",
       "Name: name, dtype: object"
      ]
     },
     "execution_count": 51,
     "metadata": {},
     "output_type": "execute_result"
    }
   ],
   "source": [
    "def preprocess(doc):\n",
    "    stop=STOPWORDS\n",
    "    wnl = WordNetLemmatizer()\n",
    "    sbs=SnowballStemmer('english')\n",
    "    #NLTK version is bit less strict on stopwords than gensim. E.g. 'also' is not stopword in nltk\n",
    "    #stop=stopwords.words('english')\n",
    "    \n",
    "    #From documentation: Convert a document into a list of lowercase tokens, ignoring tokens that are too short or too long.\n",
    "    #also tested regexptokenizer from nltk, but like outcome of this one better\n",
    "    tokens=simple_preprocess(doc)\n",
    "    \n",
    "    \n",
    "    lem=[wnl.lemmatize(t) for t in tokens if t not in stop and len(t)>3]\n",
    "    stem=[sbs.stem(l) for l in lem]\n",
    "    return stem\n",
    "            \n",
    "processed_docs = documents['name'].map(preprocess)\n",
    "processed_docs[:10]"
   ]
  },
  {
   "cell_type": "code",
   "execution_count": 52,
   "metadata": {},
   "outputs": [],
   "source": [
    "from gensim.corpora import Dictionary"
   ]
  },
  {
   "cell_type": "code",
   "execution_count": 53,
   "metadata": {},
   "outputs": [],
   "source": [
    "#creates set of all words in processed_docs and assigns them an 'index'(i.e. dictionary key)\n",
    "dict_docs=Dictionary(processed_docs)"
   ]
  },
  {
   "cell_type": "code",
   "execution_count": 54,
   "metadata": {},
   "outputs": [
    {
     "name": "stdout",
     "output_type": "stream",
     "text": [
      "0 busi\n",
      "1 capston\n",
      "2 develop\n",
      "3 project\n",
      "4 introduct\n",
      "5 human\n",
      "6 manag\n",
      "7 resourc\n",
      "8 current\n",
      "9 issu\n",
      "10 leadership\n"
     ]
    }
   ],
   "source": [
    "count=0\n",
    "for k,v in dict_docs.iteritems():\n",
    "    print(k,v)\n",
    "    count+=1\n",
    "    if count>10:\n",
    "        break"
   ]
  },
  {
   "cell_type": "code",
   "execution_count": 55,
   "metadata": {},
   "outputs": [],
   "source": [
    "#4165 unique tokens"
   ]
  },
  {
   "cell_type": "code",
   "execution_count": 56,
   "metadata": {},
   "outputs": [],
   "source": [
    "#filter out extremes\n",
    "#no_below=delete words that occur less than that number, no_above=delete words that are in more than that amount of documents, keep_n is keep the most frequent n words\n",
    "#dict_docs.filter_extremes(no_above=0.1, keep_n=3500)"
   ]
  },
  {
   "cell_type": "code",
   "execution_count": 57,
   "metadata": {},
   "outputs": [],
   "source": [
    "bow_docs=[dict_docs.doc2bow(d) for d in processed_docs]"
   ]
  },
  {
   "cell_type": "code",
   "execution_count": 58,
   "metadata": {},
   "outputs": [],
   "source": [
    "from gensim.models import LdaMulticore"
   ]
  },
  {
   "cell_type": "code",
   "execution_count": 59,
   "metadata": {},
   "outputs": [],
   "source": [
    "lda_model = LdaMulticore(bow_docs, num_topics=10, id2word=dict_docs, passes=2, workers=2)"
   ]
  },
  {
   "cell_type": "code",
   "execution_count": 60,
   "metadata": {},
   "outputs": [
    {
     "name": "stdout",
     "output_type": "stream",
     "text": [
      "Topic: 0 \n",
      "Words: 0.040*\"manag\" + 0.031*\"introduct\" + 0.029*\"system\" + 0.024*\"data\" + 0.023*\"busi\" + 0.021*\"materi\" + 0.018*\"inform\" + 0.016*\"space\" + 0.015*\"energi\" + 0.013*\"basic\"\n",
      "Topic: 1 \n",
      "Words: 0.063*\"busi\" + 0.033*\"communic\" + 0.018*\"technolog\" + 0.017*\"write\" + 0.017*\"skill\" + 0.014*\"doctor\" + 0.014*\"manag\" + 0.013*\"sustain\" + 0.013*\"comput\" + 0.012*\"academ\"\n",
      "Topic: 2 \n",
      "Words: 0.027*\"technolog\" + 0.020*\"workshop\" + 0.017*\"process\" + 0.016*\"studio\" + 0.015*\"architectur\" + 0.014*\"introduct\" + 0.014*\"environ\" + 0.013*\"materi\" + 0.013*\"system\" + 0.012*\"photographi\"\n",
      "Topic: 3 \n",
      "Words: 0.043*\"design\" + 0.039*\"engin\" + 0.024*\"model\" + 0.023*\"method\" + 0.022*\"industri\" + 0.019*\"seminar\" + 0.017*\"communic\" + 0.017*\"doctor\" + 0.015*\"process\" + 0.015*\"technolog\"\n",
      "Topic: 4 \n",
      "Words: 0.026*\"strategi\" + 0.021*\"program\" + 0.018*\"chemistri\" + 0.016*\"corpor\" + 0.016*\"project\" + 0.015*\"fluid\" + 0.014*\"work\" + 0.014*\"research\" + 0.014*\"advanc\" + 0.014*\"workshop\"\n",
      "Topic: 5 \n",
      "Words: 0.069*\"engin\" + 0.031*\"cours\" + 0.029*\"process\" + 0.029*\"project\" + 0.016*\"physic\" + 0.016*\"softwar\" + 0.015*\"laboratori\" + 0.015*\"system\" + 0.015*\"structur\" + 0.014*\"advanc\"\n",
      "Topic: 6 \n",
      "Words: 0.034*\"manag\" + 0.029*\"innov\" + 0.029*\"global\" + 0.021*\"workshop\" + 0.020*\"market\" + 0.020*\"cours\" + 0.015*\"design\" + 0.014*\"practic\" + 0.014*\"busi\" + 0.014*\"research\"\n",
      "Topic: 7 \n",
      "Words: 0.040*\"advanc\" + 0.024*\"communic\" + 0.019*\"urban\" + 0.019*\"digit\" + 0.019*\"manag\" + 0.015*\"visual\" + 0.014*\"busi\" + 0.013*\"cours\" + 0.012*\"comput\" + 0.012*\"qualiti\"\n",
      "Topic: 8 \n",
      "Words: 0.051*\"design\" + 0.043*\"research\" + 0.032*\"theori\" + 0.023*\"method\" + 0.023*\"seminar\" + 0.023*\"studi\" + 0.022*\"structur\" + 0.020*\"project\" + 0.016*\"econom\" + 0.014*\"wood\"\n",
      "Topic: 9 \n",
      "Words: 0.096*\"design\" + 0.051*\"project\" + 0.037*\"product\" + 0.018*\"interact\" + 0.017*\"cours\" + 0.016*\"basic\" + 0.013*\"system\" + 0.012*\"model\" + 0.012*\"electron\" + 0.011*\"circuit\"\n"
     ]
    }
   ],
   "source": [
    "for idx, topic in lda_model.print_topics(-1):\n",
    "    print('Topic: {} \\nWords: {}'.format(idx, topic))"
   ]
  },
  {
   "cell_type": "code",
   "execution_count": 61,
   "metadata": {},
   "outputs": [
    {
     "data": {
      "text/plain": [
       "[(6, 1), (13, 1), (59, 1)]"
      ]
     },
     "execution_count": 61,
     "metadata": {},
     "output_type": "execute_result"
    }
   ],
   "source": [
    "bow_docs[100]"
   ]
  },
  {
   "cell_type": "code",
   "execution_count": 62,
   "metadata": {},
   "outputs": [
    {
     "name": "stdout",
     "output_type": "stream",
     "text": [
      "Word 6 (\"manag\") appears 1 time.\n",
      "Word 13 (\"corpor\") appears 1 time.\n",
      "Word 59 (\"financi\") appears 1 time.\n"
     ]
    }
   ],
   "source": [
    "bow_doc_sample = bow_docs[100]\n",
    "for i in range(len(bow_doc_sample)):\n",
    "    print(\"Word {} (\\\"{}\\\") appears {} time.\".format(bow_doc_sample[i][0], dict_docs[bow_doc_sample[i][0]], bow_doc_sample[i][1]))"
   ]
  },
  {
   "cell_type": "code",
   "execution_count": 63,
   "metadata": {},
   "outputs": [],
   "source": [
    "doc_sample=documents[documents['index'] == 0].values[0][2]\n",
    "words_sample=simple_preprocess(doc_sample)"
   ]
  },
  {
   "cell_type": "code",
   "execution_count": 64,
   "metadata": {},
   "outputs": [
    {
     "name": "stdout",
     "output_type": "stream",
     "text": [
      "original document: \n",
      "['The', 'course', 'consists', 'of', 'an', 'applied,', 'real-life', 'problem-based', 'project/case', 'that', 'students', 'identify,', 'analyze', 'and', 'solve', 'in', 'multi-disciplinary', 'teams.', 'It', 'also', 'focuses', 'on', 'developing', 'the', 'students¿', 'self-awareness', 'of', 'the', 'key', 'learnings', 'during', 'their', 'studies', 'in', 'the', 'Master¿s', 'Program.']\n",
      "\n",
      "\n",
      " tokenized and lemmatized document: \n",
      "['cours', 'consist', 'appli', 'real', 'life', 'problem', 'base', 'project', 'case', 'student', 'identifi', 'analyz', 'solv', 'multi', 'disciplinari', 'team', 'focus', 'develop', 'student', 'self', 'awar', 'learn', 'studi', 'master', 'program']\n"
     ]
    }
   ],
   "source": [
    "print('original document: ')\n",
    "words = []\n",
    "for word in doc_sample.split(' '):\n",
    "    words.append(word)\n",
    "print(words)\n",
    "print('\\n\\n tokenized and lemmatized document: ')\n",
    "print(preprocess(doc_sample))"
   ]
  },
  {
   "cell_type": "markdown",
   "metadata": {},
   "source": [
    "#### Some tests"
   ]
  },
  {
   "cell_type": "code",
   "execution_count": 92,
   "metadata": {},
   "outputs": [
    {
     "name": "stdout",
     "output_type": "stream",
     "text": [
      "{'id': '1134038359', 'summary': {'workload': {'fi': '', 'sv': '', 'en': ''}, 'prerequisities': {'fi': '', 'sv': '', 'en': ''}, 'learningOutcomes': {'fi': '', 'sv': '', 'en': ''}, 'literature': {'fi': '', 'sv': '', 'en': ''}, 'languageOfInstruction': {'fi': '', 'sv': '', 'en': ''}, 'registration': {'fi': '', 'sv': '', 'en': ''}, 'homepage': {'fi': 'https://mycourses.aalto.fi/course/search.php?search=TU-CV', 'sv': '', 'en': ''}, 'content': {'fi': '', 'sv': '', 'en': ''}, 'cefrLevel': {'fi': '', 'sv': '', 'en': ''}, 'level': {'fi': '', 'sv': '', 'en': ''}, 'teacherInCharge': {'fi': '', 'sv': '', 'en': ''}, 'assesmentMethods': {'fi': '', 'sv': '', 'en': ''}, 'courseStatus': {'fi': '', 'sv': '', 'en': ''}, 'substitutes': {'fi': '', 'sv': '', 'en': ''}, 'additionalInformation': {'fi': '', 'sv': '', 'en': ''}, 'gradingScale': {'fi': '', 'sv': '', 'en': ''}, 'teachingPeriod': {'fi': '', 'sv': '', 'en': ''}}, 'startDate': '2018-11-05', 'languageOfInstructionCodes': ['en'], 'courseUnitId': '1113375184', 'name': {'fi': 'Magnificent Life', 'sv': 'Magnificent Life', 'en': 'Magnificent Life'}, 'credits': '0', 'endDate': '2018-12-02', 'organizationId': 'T307', 'code': 'TU-CV', 'type': 'course', 'teachers': ['Esa Saarinen']}\n"
     ]
    }
   ],
   "source": [
    "#see content MagLife course\n",
    "for i in range(len(course_info)):\n",
    "    if course_info[i]['courseUnitId']=='1113375184':\n",
    "        print(course_info[i])"
   ]
  },
  {
   "cell_type": "code",
   "execution_count": null,
   "metadata": {},
   "outputs": [],
   "source": [
    "#test for sustainable built environment\n",
    "df['name'][df['name'].str.contains('Sust')]"
   ]
  },
  {
   "cell_type": "markdown",
   "metadata": {},
   "source": [
    "### Questions\n",
    "#### Data retrieval\n",
    "- Some courses seem to have all the info in Finnish and English on Oodi, but only return the one with Finnish!! See e.g. Sustainable Built Environment (idx 2644)\n",
    "- Some courses seem to return less info than there is on Oodi. See e.g. Magnificent life (courseUnitId 1113375184)\n",
    "- The two problems above also occur on courses.aalto.fi (so not just me :p)\n",
    "\n",
    "#### Data processing\n",
    "- How to handle the two languages\n",
    "- Check out the courses that have english as language but only Finnish language in description\n",
    "\n",
    "#### Other\n",
    "- DO more topic modelling\n",
    "    - Try with TF-IDF"
   ]
  },
  {
   "cell_type": "markdown",
   "metadata": {},
   "source": [
    "I think some missing content is caused by this nested structure.. How to fix that?\n",
    "![Mag Life example](../Images/magLife_example.png)"
   ]
  },
  {
   "cell_type": "code",
   "execution_count": null,
   "metadata": {},
   "outputs": [],
   "source": []
  },
  {
   "cell_type": "code",
   "execution_count": null,
   "metadata": {},
   "outputs": [],
   "source": []
  },
  {
   "cell_type": "code",
   "execution_count": null,
   "metadata": {},
   "outputs": [],
   "source": []
  },
  {
   "cell_type": "code",
   "execution_count": null,
   "metadata": {},
   "outputs": [],
   "source": []
  },
  {
   "cell_type": "code",
   "execution_count": null,
   "metadata": {},
   "outputs": [],
   "source": []
  },
  {
   "cell_type": "code",
   "execution_count": null,
   "metadata": {},
   "outputs": [],
   "source": []
  }
 ],
 "metadata": {
  "kernelspec": {
   "display_name": "Python 3",
   "language": "python",
   "name": "python3"
  },
  "language_info": {
   "codemirror_mode": {
    "name": "ipython",
    "version": 3
   },
   "file_extension": ".py",
   "mimetype": "text/x-python",
   "name": "python",
   "nbconvert_exporter": "python",
   "pygments_lexer": "ipython3",
   "version": "3.6.3"
  }
 },
 "nbformat": 4,
 "nbformat_minor": 2
}
