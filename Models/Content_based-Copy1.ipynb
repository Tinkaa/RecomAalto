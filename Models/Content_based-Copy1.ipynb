{
 "cells": [
  {
   "cell_type": "markdown",
   "metadata": {},
   "source": [
    "### Content-Based Filtering\n",
    "This notebook implements a simple version of content-based recommendation.  \n",
    "Content-based filtering is one of the two most common methods, next to collaborative filtering.  \n",
    "It uses as input data on the items (in our case the courses). It then calculates similarity between each of the item, and recommends the items with the highest similarity.  \n",
    "It has been shown to work pretty well and an advantage is that we only need data on the courses and not on the users. \n",
    "On the other hand, this means that it is not personalized and it often is hard to suggest things that are different than the input. \n",
    "\n",
    "This is only a test (but gives reasonable results). \n",
    "The code was largely inspired by and partly copied from https://www.datacamp.com/community/tutorials/recommender-systems-python"
   ]
  },
  {
   "cell_type": "code",
   "execution_count": 3,
   "metadata": {
    "collapsed": true
   },
   "outputs": [],
   "source": [
    "#import the needed packages\n",
    "import pandas as pd\n",
    "import numpy as np\n",
    "from sklearn.feature_extraction.text import TfidfVectorizer\n",
    "# Import linear_kernel\n",
    "from sklearn.metrics.pairwise import linear_kernel\n",
    "from IPython.display import display"
   ]
  },
  {
   "cell_type": "code",
   "execution_count": 4,
   "metadata": {},
   "outputs": [
    {
     "name": "stdout",
     "output_type": "stream",
     "text": [
      "Number of courses: 1212 \n",
      "\n"
     ]
    },
    {
     "data": {
      "text/html": [
       "<div>\n",
       "<style scoped>\n",
       "    .dataframe tbody tr th:only-of-type {\n",
       "        vertical-align: middle;\n",
       "    }\n",
       "\n",
       "    .dataframe tbody tr th {\n",
       "        vertical-align: top;\n",
       "    }\n",
       "\n",
       "    .dataframe thead th {\n",
       "        text-align: right;\n",
       "    }\n",
       "</style>\n",
       "<table border=\"1\" class=\"dataframe\">\n",
       "  <thead>\n",
       "    <tr style=\"text-align: right;\">\n",
       "      <th></th>\n",
       "      <th>index</th>\n",
       "      <th>additionalInformation</th>\n",
       "      <th>assesmentMethods</th>\n",
       "      <th>availableEnglish</th>\n",
       "      <th>cefrLevel</th>\n",
       "      <th>code</th>\n",
       "      <th>content</th>\n",
       "      <th>courseStatus</th>\n",
       "      <th>courseUnitId</th>\n",
       "      <th>credits</th>\n",
       "      <th>...</th>\n",
       "      <th>organizationId</th>\n",
       "      <th>prerequisities</th>\n",
       "      <th>registration</th>\n",
       "      <th>startDate</th>\n",
       "      <th>substitutes</th>\n",
       "      <th>teacherInCharge</th>\n",
       "      <th>teachers</th>\n",
       "      <th>teachingPeriod</th>\n",
       "      <th>type</th>\n",
       "      <th>workload</th>\n",
       "    </tr>\n",
       "  </thead>\n",
       "  <tbody>\n",
       "    <tr>\n",
       "      <th>0</th>\n",
       "      <td>0</td>\n",
       "      <td>Compulsory attendance in all class sessions an...</td>\n",
       "      <td>100 % assignments (group and individual)</td>\n",
       "      <td>True</td>\n",
       "      <td>NaN</td>\n",
       "      <td>20E99904</td>\n",
       "      <td>The course consists of an applied, real-life p...</td>\n",
       "      <td>Mandatory course in the Master¿s programs of B...</td>\n",
       "      <td>1125574316</td>\n",
       "      <td>6</td>\n",
       "      <td>...</td>\n",
       "      <td>E701</td>\n",
       "      <td>Most Master¿s Programme studies have to be com...</td>\n",
       "      <td>via WebOodi.</td>\n",
       "      <td>2018-09-19</td>\n",
       "      <td>Students can replace this capstone course by p...</td>\n",
       "      <td>Perttu KähäriNina GranqvistPaulina JunniGregor...</td>\n",
       "      <td>['Perttu Kähäri', 'Laura Peni', 'Pekka Pälli',...</td>\n",
       "      <td>Periods I-II Töölö campus, periods IV-V Otanie...</td>\n",
       "      <td>course</td>\n",
       "      <td>Contact teaching :10-15 h (incl. closing semin...</td>\n",
       "    </tr>\n",
       "    <tr>\n",
       "      <th>1</th>\n",
       "      <td>1</td>\n",
       "      <td>The minimum number of participants is 20</td>\n",
       "      <td>Learning diaries 50%Take-home exam 50%</td>\n",
       "      <td>True</td>\n",
       "      <td>NaN</td>\n",
       "      <td>21C00150</td>\n",
       "      <td>This introductory course gives a basic underst...</td>\n",
       "      <td>Degree Elective</td>\n",
       "      <td>1130843834</td>\n",
       "      <td>3</td>\n",
       "      <td>...</td>\n",
       "      <td>E706</td>\n",
       "      <td>NaN</td>\n",
       "      <td>Via WebOodi</td>\n",
       "      <td>2019-02-27</td>\n",
       "      <td>NaN</td>\n",
       "      <td>DSc Christa Uusi-Rauva, Professor Ingmar Björkman</td>\n",
       "      <td>['Alice Wickström', 'Ingmar Björkman']</td>\n",
       "      <td>2018-2019; IV, Otaniemi Campus 2019-2020: no t...</td>\n",
       "      <td>course</td>\n",
       "      <td>Lectures: 33 hoursLearning diaries: 24 hoursTa...</td>\n",
       "    </tr>\n",
       "    <tr>\n",
       "      <th>2</th>\n",
       "      <td>2</td>\n",
       "      <td>Max. 100 students. Priority for management stu...</td>\n",
       "      <td>Final exam: 40%Assignments: 30%Learning diary:...</td>\n",
       "      <td>True</td>\n",
       "      <td>NaN</td>\n",
       "      <td>21C00350</td>\n",
       "      <td>Throughout this course, we will be covering di...</td>\n",
       "      <td>Bachelor: Management HR specialization area Co...</td>\n",
       "      <td>1125857456</td>\n",
       "      <td>6</td>\n",
       "      <td>...</td>\n",
       "      <td>E706</td>\n",
       "      <td>It is recommended that the students have basic...</td>\n",
       "      <td>WebOodi</td>\n",
       "      <td>2018-10-30</td>\n",
       "      <td>21C00300 Henkilöstöjohtaminen</td>\n",
       "      <td>Kathrin Sele</td>\n",
       "      <td>['Kathrin Sele']</td>\n",
       "      <td>Period II (2018-2019), Otaniemi campusPeriod I...</td>\n",
       "      <td>course</td>\n",
       "      <td>Lectures 30h presence (obligatory classroom pr...</td>\n",
       "    </tr>\n",
       "    <tr>\n",
       "      <th>3</th>\n",
       "      <td>3</td>\n",
       "      <td>NaN</td>\n",
       "      <td>NaN</td>\n",
       "      <td>True</td>\n",
       "      <td>NaN</td>\n",
       "      <td>21C03000</td>\n",
       "      <td>The course is taught by a visiting lecturer an...</td>\n",
       "      <td>B.Sc. Management minor</td>\n",
       "      <td>1133021737</td>\n",
       "      <td>3-6</td>\n",
       "      <td>...</td>\n",
       "      <td>E706</td>\n",
       "      <td>NaN</td>\n",
       "      <td>via WebOodi</td>\n",
       "      <td>2019-01-09</td>\n",
       "      <td>NaN</td>\n",
       "      <td>The course is taught by a visiting lecturer. 2...</td>\n",
       "      <td>['Mikko Martela']</td>\n",
       "      <td>2018-2019: III, Otaniemi campusNo teaching 201...</td>\n",
       "      <td>course</td>\n",
       "      <td>NaN</td>\n",
       "    </tr>\n",
       "    <tr>\n",
       "      <th>4</th>\n",
       "      <td>4</td>\n",
       "      <td>NaN</td>\n",
       "      <td>50% reflective learning diary50% final essay exam</td>\n",
       "      <td>True</td>\n",
       "      <td>NaN</td>\n",
       "      <td>21C10000</td>\n",
       "      <td>Must know: the concepts of \"concept and contex...</td>\n",
       "      <td>Aalto-course Management minor elective course</td>\n",
       "      <td>1121603277</td>\n",
       "      <td>6</td>\n",
       "      <td>...</td>\n",
       "      <td>E706</td>\n",
       "      <td>No specific prerequisites for attending the co...</td>\n",
       "      <td>Via Weboodi</td>\n",
       "      <td>2019-01-08</td>\n",
       "      <td>NaN</td>\n",
       "      <td>Esko Aho Kirsti Iivonen</td>\n",
       "      <td>['Esko Aho', 'Kirsti Iivonen']</td>\n",
       "      <td>Period III (2018-2019)Period III (2019-2020)</td>\n",
       "      <td>course</td>\n",
       "      <td>Attending lectures 24h (not compulsory but hig...</td>\n",
       "    </tr>\n",
       "  </tbody>\n",
       "</table>\n",
       "<p>5 rows × 30 columns</p>\n",
       "</div>"
      ],
      "text/plain": [
       "   index                              additionalInformation  \\\n",
       "0      0  Compulsory attendance in all class sessions an...   \n",
       "1      1           The minimum number of participants is 20   \n",
       "2      2  Max. 100 students. Priority for management stu...   \n",
       "3      3                                                NaN   \n",
       "4      4                                                NaN   \n",
       "\n",
       "                                    assesmentMethods  availableEnglish  \\\n",
       "0           100 % assignments (group and individual)              True   \n",
       "1             Learning diaries 50%Take-home exam 50%              True   \n",
       "2  Final exam: 40%Assignments: 30%Learning diary:...              True   \n",
       "3                                                NaN              True   \n",
       "4  50% reflective learning diary50% final essay exam              True   \n",
       "\n",
       "  cefrLevel      code                                            content  \\\n",
       "0       NaN  20E99904  The course consists of an applied, real-life p...   \n",
       "1       NaN  21C00150  This introductory course gives a basic underst...   \n",
       "2       NaN  21C00350  Throughout this course, we will be covering di...   \n",
       "3       NaN  21C03000  The course is taught by a visiting lecturer an...   \n",
       "4       NaN  21C10000  Must know: the concepts of \"concept and contex...   \n",
       "\n",
       "                                        courseStatus  courseUnitId credits  \\\n",
       "0  Mandatory course in the Master¿s programs of B...    1125574316       6   \n",
       "1                                    Degree Elective    1130843834       3   \n",
       "2  Bachelor: Management HR specialization area Co...    1125857456       6   \n",
       "3                           B.Sc. Management minor      1133021737     3-6   \n",
       "4    Aalto-course Management minor elective course      1121603277       6   \n",
       "\n",
       "                         ...                         organizationId  \\\n",
       "0                        ...                                   E701   \n",
       "1                        ...                                   E706   \n",
       "2                        ...                                   E706   \n",
       "3                        ...                                   E706   \n",
       "4                        ...                                   E706   \n",
       "\n",
       "                                      prerequisities  registration  \\\n",
       "0  Most Master¿s Programme studies have to be com...  via WebOodi.   \n",
       "1                                                NaN   Via WebOodi   \n",
       "2  It is recommended that the students have basic...       WebOodi   \n",
       "3                                                NaN   via WebOodi   \n",
       "4  No specific prerequisites for attending the co...   Via Weboodi   \n",
       "\n",
       "    startDate                                        substitutes  \\\n",
       "0  2018-09-19  Students can replace this capstone course by p...   \n",
       "1  2019-02-27                                                NaN   \n",
       "2  2018-10-30                      21C00300 Henkilöstöjohtaminen   \n",
       "3  2019-01-09                                                NaN   \n",
       "4  2019-01-08                                                NaN   \n",
       "\n",
       "                                     teacherInCharge  \\\n",
       "0  Perttu KähäriNina GranqvistPaulina JunniGregor...   \n",
       "1  DSc Christa Uusi-Rauva, Professor Ingmar Björkman   \n",
       "2                                       Kathrin Sele   \n",
       "3  The course is taught by a visiting lecturer. 2...   \n",
       "4                            Esko Aho Kirsti Iivonen   \n",
       "\n",
       "                                            teachers  \\\n",
       "0  ['Perttu Kähäri', 'Laura Peni', 'Pekka Pälli',...   \n",
       "1             ['Alice Wickström', 'Ingmar Björkman']   \n",
       "2                                   ['Kathrin Sele']   \n",
       "3                                  ['Mikko Martela']   \n",
       "4                     ['Esko Aho', 'Kirsti Iivonen']   \n",
       "\n",
       "                                      teachingPeriod    type  \\\n",
       "0  Periods I-II Töölö campus, periods IV-V Otanie...  course   \n",
       "1  2018-2019; IV, Otaniemi Campus 2019-2020: no t...  course   \n",
       "2  Period II (2018-2019), Otaniemi campusPeriod I...  course   \n",
       "3  2018-2019: III, Otaniemi campusNo teaching 201...  course   \n",
       "4       Period III (2018-2019)Period III (2019-2020)  course   \n",
       "\n",
       "                                            workload  \n",
       "0  Contact teaching :10-15 h (incl. closing semin...  \n",
       "1  Lectures: 33 hoursLearning diaries: 24 hoursTa...  \n",
       "2  Lectures 30h presence (obligatory classroom pr...  \n",
       "3                                                NaN  \n",
       "4  Attending lectures 24h (not compulsory but hig...  \n",
       "\n",
       "[5 rows x 30 columns]"
      ]
     },
     "execution_count": 4,
     "metadata": {},
     "output_type": "execute_result"
    }
   ],
   "source": [
    "#read the course info\n",
    "df=pd.read_csv('../Data/filtered_courses.csv')\n",
    "df['content']=df['content'].fillna('')\n",
    "print(\"Number of courses:\",len(df),\"\\n\")\n",
    "df.head()"
   ]
  },
  {
   "cell_type": "code",
   "execution_count": 82,
   "metadata": {},
   "outputs": [
    {
     "name": "stdout",
     "output_type": "stream",
     "text": [
      "name\n",
      "Capstone: Business Development Project    0\n",
      "Introduction to business                  1\n",
      "Human Resource Management                 2\n",
      "Current Issues in Leadership              3\n",
      "Business and Society                      4\n",
      "Managing Corporate Careers                5\n",
      "Doing Qualitative Research                6\n",
      "Gender and Diversity at Work              7\n",
      "Managing Mergers and Acquisitions         8\n",
      "Innovation Processes in Transition        9\n",
      "dtype: int64\n",
      "Shape of matrix: (1212, 6938)\n",
      "Number of unique tokens: 6938\n"
     ]
    }
   ],
   "source": [
    "#Construct a reverse map of indices and movie titles\n",
    "# we use this to map index to title and other way around\n",
    "indices = pd.Series(df.index, index=df['name'])\n",
    "print(indices[:10])\n",
    "\n",
    "#define the tf-idf vectorizer\n",
    "tfidf = TfidfVectorizer(stop_words='english')\n",
    "#get the tf-idf score for each word in each ontent description of each course\n",
    "tfidf_matrix = tfidf.fit_transform(df['content'])\n",
    "print(\"Shape of matrix:\",tfidf_matrix.shape)\n",
    "print(\"Number of unique tokens:\",tfidf_matrix.shape[1])\n",
    "\n",
    "# Compute the cosine similarity matrix\n",
    "# We use the linear kernel of sklearn for this\n",
    "cosine_sim = linear_kernel(tfidf_matrix, tfidf_matrix)"
   ]
  },
  {
   "cell_type": "code",
   "execution_count": 101,
   "metadata": {},
   "outputs": [],
   "source": [
    "#we might wanna do some stemming! \n",
    "#But not sure exactly"
   ]
  },
  {
   "cell_type": "code",
   "execution_count": 99,
   "metadata": {},
   "outputs": [],
   "source": [
    "def recom_freetext(user_input,courses=df,input_columns=['content']):\n",
    "#Construct a reverse map of indices and movie titles\n",
    "# we use this to map index to title and other way around\n",
    "    courses['combined']=courses['name']+' '+courses['content']\n",
    "    print(courses['combined'][courses['combined'].str.contains('entrepeneurship')])\n",
    "    courses=courses.append({'combined':user_input,'name':user_input},ignore_index=True)#[len(courses)]['content']=user_input\n",
    "    #print(courses)\n",
    "    indices = pd.Series(courses.index, index=courses['name'])\n",
    "    tfidf = TfidfVectorizer(stop_words='english')\n",
    "\n",
    "    tfidf_matrix = tfidf.fit_transform(courses['combined'])\n",
    "    #print(tfidf_matrix.get_feature_names())\n",
    "    cosine_sim = linear_kernel(tfidf_matrix, tfidf_matrix)\n",
    "    sim_indices,sim_scores=get_mostsim(user_input,indices,cosine_sim)\n",
    "    # Print the 10 most similar courses\n",
    "    print(\"The 10 most similar courses for the input\",user_input)\n",
    "    print(df['name'].iloc[sim_indices[:10]])\n",
    "    print(\"Similarity scores\")\n",
    "    print(sim_scores[:10])\n",
    "    print(\"10 tokens with highest tf-idf\")\n",
    "    print(top_tfidf(12,tfidf,tfidf_matrix))\n",
    "    "
   ]
  },
  {
   "cell_type": "code",
   "execution_count": 100,
   "metadata": {},
   "outputs": [
    {
     "name": "stdout",
     "output_type": "stream",
     "text": [
      "Series([], Name: combined, dtype: object)\n",
      "The 10 most similar courses for the input entrepreneurship\n",
      "71                           Entrepreneurship and Society\n",
      "68                           Sustainable Entrepreneurship\n",
      "1056          Real Estate Business and Entrepreneurship L\n",
      "857                Entrepreneurship in the Global Economy\n",
      "66             Entrepreneurship and Innovation Management\n",
      "67             Entrepreneurship and Innovation Management\n",
      "1124    Introduction to Industrial Engineering and Man...\n",
      "74                               Doing Business in Russia\n",
      "12              Corporate Entrepreneurship and Innovation\n",
      "60      Storytelling - a Narrative Approach for Entrep...\n",
      "Name: name, dtype: object\n",
      "Similarity scores\n",
      "[0.4104809168034438, 0.4020665110150963, 0.3046791596822547, 0.295249537451524, 0.23969847506472927, 0.23969847506472927, 0.22438280807494146, 0.21556361405145535, 0.21518965856999128, 0.1680063388244484]\n",
      "10 tokens with highest tf-idf\n",
      "[('large', 0.2869195447599884), ('entrepreneurial', 0.2329107378226953), ('innovative', 0.21899253945094938), ('entrepreneurship', 0.21518965856999128), ('corporate', 0.20691873116718276), ('companies', 0.20261635274526382), ('organizations', 0.19397026802509745), ('small', 0.18399409601674976), ('established', 0.18385228581656957), ('new', 0.15552103943545934)]\n"
     ]
    }
   ],
   "source": [
    "recom_freetext('entrepreneurship')"
   ]
  },
  {
   "cell_type": "code",
   "execution_count": 45,
   "metadata": {},
   "outputs": [
    {
     "name": "stdout",
     "output_type": "stream",
     "text": [
      "The 10 most similar courses for the input I would like to learn about entrepeneurship because I like innovation and dont think I am made to work in big companies. At the same time I am really interested in computer science and new technologies.\n",
      "434     Research Project in Machine Learning and Data ...\n",
      "753              Life Science Technologies Project Course\n",
      "404     Seminar in Computer Science: Internet, Data an...\n",
      "211                          Design of Structures Seminar\n",
      "15                                   Data-Driven Business\n",
      "13      \"Put Your Head on a Blockchain\" - Strategies f...\n",
      "501                 Introduction to Media Art and Culture\n",
      "1204          Microscopic view: Experimental Light Images\n",
      "207                           Design of Structures Theory\n",
      "1203                           Game Design and Production\n",
      "Name: name, dtype: object\n",
      "Similarity scores\n",
      "[0.21624475765758983, 0.1426407605612973, 0.140890873384809, 0.1205628992095934, 0.11867508217290859, 0.1132282547468427, 0.10405445635633408, 0.10198432613097147, 0.09915835800105874, 0.09893419418920299]\n",
      "10 tokens with highest tf-idf\n",
      "[('like', 0.4542058207318168), ('entrepeneurship', 0.3262402818488604), ('dont', 0.3262402818488604), ('really', 0.29571701090989705), ('think', 0.2778620420112517), ('interested', 0.25117038419734106), ('big', 0.25117038419734106), ('science', 0.20279214435973233), ('companies', 0.20279214435973233), ('computer', 0.20147754609243143)]\n"
     ]
    }
   ],
   "source": [
    "recom_freetext('I would like to learn about entrepeneurship because I like innovation and dont think I am made to work in big companies. At the same time I am really interested in computer science and new technologies.')"
   ]
  },
  {
   "cell_type": "markdown",
   "metadata": {},
   "source": [
    "We can now use this cosine similarity to get the courses that are most similar to the input course!"
   ]
  },
  {
   "cell_type": "code",
   "execution_count": 10,
   "metadata": {
    "collapsed": true
   },
   "outputs": [],
   "source": [
    "def get_mostsim(title,indices,sim):\n",
    "    \n",
    "    # Get index of course given title\n",
    "    idx = indices[title]\n",
    "\n",
    "    #Get similarity of course to all other courses\n",
    "    # structure is list of (index, similarity)\n",
    "    sim_row = list(enumerate(sim[idx]))\n",
    "    \n",
    "    #sort the courses by descending score\n",
    "    sim_sorted = sorted(sim_row, key=lambda x: x[1], reverse=True)\n",
    "\n",
    "    \n",
    "    sim_indices = [i[0] for i in sim_sorted[1:]]\n",
    "    sim_scores=[i[1] for i in sim_sorted[1:]]\n",
    "    \n",
    "    return sim_indices,sim_scores"
   ]
  },
  {
   "cell_type": "code",
   "execution_count": 19,
   "metadata": {},
   "outputs": [
    {
     "name": "stdout",
     "output_type": "stream",
     "text": [
      "The 10 most similar courses for the course Explorative Information Visualization\n",
      "1182                                     Digital Urban\n",
      "109                    Quantitative Empirical Research\n",
      "477         Information Design Studio (Advanced level)\n",
      "476     Information Design Studio (Intermediate level)\n",
      "535     Topics in Visualization and Cultural Analytics\n",
      "23                        Perspectives on organization\n",
      "749                       Advanced Spatial Analytics L\n",
      "147                     Management Information Systems\n",
      "1175                        Urban GIS and Visual Tools\n",
      "475                                           Data Now\n",
      "Name: name, dtype: object\n",
      "Similarity scores\n",
      "[0.21711850689321494, 0.20787109715824192, 0.19651746874909612, 0.19154857322369867, 0.19145319273618902, 0.18879540490395033, 0.1872989166578033, 0.1813301746506613, 0.17487816471808537, 0.17189368406838348]\n"
     ]
    }
   ],
   "source": [
    "title='Explorative Information Visualization'\n",
    "sim_indices,sim_scores=get_mostsim(title)\n",
    "# Print the 10 most similar courses\n",
    "print(\"The 10 most similar courses for the course\",title)\n",
    "print(df['name'].iloc[sim_indices[:10]])\n",
    "print(\"Similarity scores\")\n",
    "print(sim_scores[:10])"
   ]
  },
  {
   "cell_type": "code",
   "execution_count": 10,
   "metadata": {},
   "outputs": [
    {
     "name": "stdout",
     "output_type": "stream",
     "text": [
      "The 10 most similar courses for the course Electromechanics\n",
      "677                        Design of Electrical Machines\n",
      "687                        Seminar on Electromechanics P\n",
      "688               Special Course on Electromechanics P V\n",
      "802                      Finite Element Method in Solids\n",
      "840                            Finite Element Analysis L\n",
      "585                                  Electronic circuits\n",
      "690                   An Introduction to Electric Energy\n",
      "676                                 Converter Techniques\n",
      "225    Ways of Making 2 - Constructing sculpture with...\n",
      "181            Introduction to Advanced Energy Solutions\n",
      "Name: name, dtype: object\n",
      "Similarity scores\n",
      "[0.3326772014288948, 0.28394697086702986, 0.28394697086702986, 0.20418609872481755, 0.16596945989083237, 0.15689931128732673, 0.15387144435726985, 0.14041973798350596, 0.13125891464333567, 0.12850464569793243]\n",
      "The 10 most similar courses for the course Thesis Writing for Engineers (MSc) (w) - H01\n",
      "771    Academic Communication for MSc Students (o,w) ...\n",
      "785                           Academic Writing (w) - H02\n",
      "784    Academic Communication for Master´s Students (...\n",
      "789       Reading Project in ARTS (online) (w + o) - V01\n",
      "773         Preparing for the Doctoral Defense (o) - H02\n",
      "788               Presenting Doctoral Research (o) - H01\n",
      "765               Communicating Technology (o + w) - H04\n",
      "780         Talking Art, Design & Architecture (o) - H02\n",
      "766                 Persuasive Communication (o,w) - H03\n",
      "768           Aaltonaut Communication Skills (o,w) - H01\n",
      "Name: name, dtype: object\n",
      "Similarity scores\n",
      "[0.4431382378512422, 0.419022063668363, 0.40590435535317937, 0.3978546046909243, 0.3913057530268929, 0.38229589988510904, 0.368649063672804, 0.34919702948427334, 0.3479861397848061, 0.3434418540048393]\n",
      "The 10 most similar courses for the course Sustainable Supply Chains\n",
      "869                              Global Supply Networks\n",
      "140                       Coordination of Supply Chains\n",
      "992     Intersections Between Sustainability and Design\n",
      "139                         Sales & Operations Planning\n",
      "36                        Accounting for Sustainability\n",
      "328           Circular Economy for Materials Processing\n",
      "78             Sustainability in International Business\n",
      "984                 Knowledge-Making for Sustainability\n",
      "142                       Quantitative Models in SCM/OM\n",
      "1139                   Management of External Resources\n",
      "Name: name, dtype: object\n",
      "Similarity scores\n",
      "[0.31897651845519953, 0.30076825531648177, 0.2377319560586791, 0.2273068753960354, 0.2218163854601817, 0.21786229188651443, 0.21218214797479873, 0.19728666252497795, 0.1881220576527774, 0.18412434147772472]\n",
      "The 10 most similar courses for the course Polymer Reaction Engineering\n",
      "266                                   Polymer Properties\n",
      "803                               Production Engineering\n",
      "265                     Web-Based Natural Fiber Products\n",
      "364       Production Technology of Concrete Structures L\n",
      "700                                 Biomaterials Science\n",
      "271                                          Biopolymers\n",
      "320                     Unit Processes in Pyrometallurgy\n",
      "290    Chemical instrumentation and electroanalytical...\n",
      "258    Biomass Pretreatment and Fractionation - in Class\n",
      "639        Trends in Communications Engineering Research\n",
      "Name: name, dtype: object\n",
      "Similarity scores\n",
      "[0.3001802471813379, 0.18840486919842703, 0.15646151334624914, 0.1513113801209695, 0.14580208735810013, 0.14245573933447828, 0.13945260395632655, 0.13932467015412042, 0.13225320017473174, 0.12855065535339974]\n",
      "The 10 most similar courses for the course People Management in Multinational Organizations\n",
      "157                CEMS Global Management Practice\n",
      "861                       Intercultural Management\n",
      "2                        Human Resource Management\n",
      "14             Strategic Human Resource Management\n",
      "872    Innovation Management in the Global Economy\n",
      "152    Strategic Information Technology Management\n",
      "73                     Global Marketing Management\n",
      "860                International Business Strategy\n",
      "445                    Digital Business Management\n",
      "7                     Gender and Diversity at Work\n",
      "Name: name, dtype: object\n",
      "Similarity scores\n",
      "[0.3761494331541637, 0.2536615728110563, 0.23753514709461895, 0.2215582208941058, 0.19101287120891658, 0.18690854061537443, 0.17815414278670816, 0.17428340348636615, 0.15542913739696082, 0.1525556217454313]\n"
     ]
    }
   ],
   "source": [
    "ra=indices.sample(5)\n",
    "for title,v in ra.items():\n",
    "    # Print the 10 most similar courses\n",
    "    sim_indices,sim_scores=get_mostsim(title)\n",
    "    print(\"The 10 most similar courses for the course\",title)\n",
    "    print(df['name'].iloc[sim_indices[:10]])\n",
    "    print(\"Similarity scores\")\n",
    "    print(sim_scores[:10])"
   ]
  },
  {
   "cell_type": "code",
   "execution_count": 11,
   "metadata": {
    "collapsed": true
   },
   "outputs": [],
   "source": [
    "#seems to work pretty well! Several courses you would expect but don't really eadd something, some courses that might add something (Art and artificial intelligence), some courses that seem totally random but are not (capstone course: marketing)"
   ]
  },
  {
   "cell_type": "markdown",
   "metadata": {},
   "source": [
    "### Experimenting more with tf-idf\n",
    "Largely inspired by https://buhrmann.github.io/tfidf-analysis.html"
   ]
  },
  {
   "cell_type": "markdown",
   "metadata": {},
   "source": [
    "More links on tf-idf  \n",
    "https://scikit-learn.org/stable/modules/generated/sklearn.feature_extraction.text.TfidfVectorizer.html#sklearn.feature_extraction.text.TfidfVectorizer.fit_transform  \n",
    "https://stackoverflow.com/questions/35757560/sklearns-tfidfvectorizer-word-frequency  \n",
    "https://www.quora.com/How-does-TfidfVectorizer-work-in-laymans-terms  \n",
    "https://scikit-learn.org/stable/modules/generated/sklearn.feature_extraction.text.TfidfTransformer.html  \n",
    "https://scikit-learn.org/stable/modules/feature_extraction.html#text-feature-extraction  \n",
    "https://nlp.stanford.edu/IR-book/html/htmledition/tf-idf-weighting-1.html  "
   ]
  },
  {
   "cell_type": "code",
   "execution_count": 95,
   "metadata": {},
   "outputs": [
    {
     "name": "stdout",
     "output_type": "stream",
     "text": [
      "5.15641292977761\n"
     ]
    }
   ],
   "source": [
    "idf = tfidf.idf_\n",
    "idf_feature=dict(zip(tfidf.get_feature_names(), idf))\n",
    "print(idf_feature['entrepreneurship'])"
   ]
  },
  {
   "cell_type": "code",
   "execution_count": 84,
   "metadata": {},
   "outputs": [],
   "source": [
    "def top_tfidf(ind,tfidfvec=tfidf,tfidfmatrix=tfidf_matrix,n_tok=10):\n",
    "    features=tfidfvec.get_feature_names()\n",
    "    course_tfidf=np.squeeze(tfidfmatrix[ind].toarray())\n",
    "    sorted_tfidf=np.argsort(-course_tfidf) #minus cause want descending order\n",
    "    return [(features[i],course_tfidf[i]) for i in sorted_tfidf[:n_tok]]"
   ]
  },
  {
   "cell_type": "code",
   "execution_count": 85,
   "metadata": {},
   "outputs": [
    {
     "name": "stdout",
     "output_type": "stream",
     "text": [
      "10 tokens with highest tf-idf for Artificial Intelligence\n"
     ]
    },
    {
     "data": {
      "text/plain": [
       "[('solving', 0.29926907106902434),\n",
       " ('logical', 0.28092653701559595),\n",
       " ('representations', 0.27159056146075444),\n",
       " ('machine', 0.2115488799139426),\n",
       " ('learning', 0.20487671875013339),\n",
       " ('problems', 0.17203409026085273),\n",
       " ('techniques', 0.15611608245605438),\n",
       " ('solver', 0.1549633629436502),\n",
       " ('adaptation', 0.1549633629436502),\n",
       " ('formulas', 0.14648135144176114)]"
      ]
     },
     "execution_count": 85,
     "metadata": {},
     "output_type": "execute_result"
    }
   ],
   "source": [
    "title='Artificial Intelligence'\n",
    "print(\"10 tokens with highest tf-idf for\",title)\n",
    "top_tfidf(indices[title])"
   ]
  },
  {
   "cell_type": "code",
   "execution_count": 14,
   "metadata": {},
   "outputs": [],
   "source": [
    "corpus = [\"The dog ate a sandwich and I ate a sandwich\",\n",
    "          \"The wizard transfigured a sandwich\"]\n",
    "vectorizer = TfidfVectorizer(stop_words='english',smooth_idf=False)\n",
    "tfidfs = vectorizer.fit_transform(corpus)"
   ]
  },
  {
   "cell_type": "code",
   "execution_count": 15,
   "metadata": {},
   "outputs": [
    {
     "data": {
      "text/plain": [
       "array([1.69314718, 1.69314718, 1.        , 1.69314718, 1.69314718])"
      ]
     },
     "execution_count": 15,
     "metadata": {},
     "output_type": "execute_result"
    }
   ],
   "source": [
    "vectorizer.idf_"
   ]
  },
  {
   "cell_type": "markdown",
   "metadata": {},
   "source": [
    "### Questions\n",
    "- sklearn preprocessing vs own one (see topic modelling)?\n",
    "- sklearn tf-idf vs doing by self (see link topic modelling)\n",
    "    - What about tokenization in tf-idf?\n",
    "- Try different similarity measures\n",
    "- Dive more into the working and mathematics of the methods I am using (tf-idf, cosine similarity)\n",
    "- Some funny things happen because of data, see MagLif below"
   ]
  },
  {
   "cell_type": "code",
   "execution_count": 16,
   "metadata": {},
   "outputs": [
    {
     "name": "stdout",
     "output_type": "stream",
     "text": [
      "1               Introduction to business\n",
      "2              Human Resource Management\n",
      "3           Current Issues in Leadership\n",
      "4                   Business and Society\n",
      "5             Managing Corporate Careers\n",
      "6             Doing Qualitative Research\n",
      "7           Gender and Diversity at Work\n",
      "8      Managing Mergers and Acquisitions\n",
      "9     Innovation Processes in Transition\n",
      "10                      Strategy Process\n",
      "Name: name, dtype: object\n",
      "Similarity scores\n",
      "[0.0, 0.0, 0.0, 0.0, 0.0, 0.0, 0.0, 0.0, 0.0, 0.0]\n"
     ]
    }
   ],
   "source": [
    "#this course has no content --> all similarities are 0 --> just give first 10 courses\n",
    "sim_indices,sim_scores=get_mostsim('Magnificent Life')\n",
    "# Print the 10 most similar courses\n",
    "print(df['name'].iloc[sim_indices[:10]])\n",
    "print(\"Similarity scores\")\n",
    "print(sim_scores[:10])"
   ]
  },
  {
   "cell_type": "markdown",
   "metadata": {},
   "source": [
    "## Brainstorm Tomi 26-11 outcomes\n",
    "\n",
    "Incooperate data other universities\n",
    "Also interesting for teachers. How do courses relate to yours and how does it change when changing description\n",
    "Student: input what you want to learn and gives courses closes to that\n",
    "\n",
    "Holistic view: \n",
    "System where you can say what you want to learn. What your current level is and what your \"wish level\" is. It then suggest activities based on this. These activities can be courses but also other things, e.g. read this article. It can also suggest when to do these activities, e.g. it is best to listen to the radio in the morning. \n",
    "\n",
    "Paper doesn't perse need to have results and evaluation Can also be more holistic, what approaches could there be and what are their pros and cons\n",
    "Also it might be good to describe the whole process. According to Tomi this is possible to do in a paper\n",
    "\n",
    "User data is gonna take some time. Maybe take focus of that. \n",
    "2 things: generate ultimate scenarios. What would be perfect system?\n",
    "Think of how with data we got now we can get creative and generate something cool. \n",
    "\n",
    "Good approach to first test some approaches and based on those choose\n",
    "\n",
    "Document things and share, but mention my name everywhere.\n",
    "Think how connection to A!OLE. Would say just part of it. Made by Tinka Valentijn, in cooperation with A!OLE. \n"
   ]
  },
  {
   "cell_type": "code",
   "execution_count": null,
   "metadata": {},
   "outputs": [],
   "source": []
  }
 ],
 "metadata": {
  "kernelspec": {
   "display_name": "Python 3",
   "language": "python",
   "name": "python3"
  },
  "language_info": {
   "codemirror_mode": {
    "name": "ipython",
    "version": 3
   },
   "file_extension": ".py",
   "mimetype": "text/x-python",
   "name": "python",
   "nbconvert_exporter": "python",
   "pygments_lexer": "ipython3",
   "version": "3.6.3"
  }
 },
 "nbformat": 4,
 "nbformat_minor": 2
}
