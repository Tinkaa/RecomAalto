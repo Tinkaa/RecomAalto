{
 "cells": [
  {
   "cell_type": "code",
   "execution_count": 40,
   "metadata": {
    "collapsed": true
   },
   "outputs": [],
   "source": [
    "import pandas as pd\n",
    "import numpy as np\n",
    "from sklearn.feature_extraction.text import TfidfVectorizer\n",
    "from sklearn.metrics.pairwise import linear_kernel\n",
    "import datetime\n",
    "\n",
    "from nltk.stem.snowball import SnowballStemmer\n",
    "from nltk import word_tokenize"
   ]
  },
  {
   "cell_type": "code",
   "execution_count": 41,
   "metadata": {},
   "outputs": [
    {
     "name": "stdout",
     "output_type": "stream",
     "text": [
      "Number of courses: 1212 \n",
      "\n"
     ]
    },
    {
     "data": {
      "text/html": [
       "<div>\n",
       "<style scoped>\n",
       "    .dataframe tbody tr th:only-of-type {\n",
       "        vertical-align: middle;\n",
       "    }\n",
       "\n",
       "    .dataframe tbody tr th {\n",
       "        vertical-align: top;\n",
       "    }\n",
       "\n",
       "    .dataframe thead th {\n",
       "        text-align: right;\n",
       "    }\n",
       "</style>\n",
       "<table border=\"1\" class=\"dataframe\">\n",
       "  <thead>\n",
       "    <tr style=\"text-align: right;\">\n",
       "      <th></th>\n",
       "      <th>index</th>\n",
       "      <th>additionalInformation</th>\n",
       "      <th>assesmentMethods</th>\n",
       "      <th>availableEnglish</th>\n",
       "      <th>cefrLevel</th>\n",
       "      <th>code</th>\n",
       "      <th>content</th>\n",
       "      <th>courseStatus</th>\n",
       "      <th>courseUnitId</th>\n",
       "      <th>credits</th>\n",
       "      <th>...</th>\n",
       "      <th>organizationId</th>\n",
       "      <th>prerequisities</th>\n",
       "      <th>registration</th>\n",
       "      <th>startDate</th>\n",
       "      <th>substitutes</th>\n",
       "      <th>teacherInCharge</th>\n",
       "      <th>teachers</th>\n",
       "      <th>teachingPeriod</th>\n",
       "      <th>type</th>\n",
       "      <th>workload</th>\n",
       "    </tr>\n",
       "  </thead>\n",
       "  <tbody>\n",
       "    <tr>\n",
       "      <th>0</th>\n",
       "      <td>0</td>\n",
       "      <td>Compulsory attendance in all class sessions an...</td>\n",
       "      <td>100 % assignments (group and individual)</td>\n",
       "      <td>True</td>\n",
       "      <td></td>\n",
       "      <td>20E99904</td>\n",
       "      <td>The course consists of an applied, real-life p...</td>\n",
       "      <td>Mandatory course in the Master¿s programs of B...</td>\n",
       "      <td>1125574316</td>\n",
       "      <td>6</td>\n",
       "      <td>...</td>\n",
       "      <td>E701</td>\n",
       "      <td>Most Master¿s Programme studies have to be com...</td>\n",
       "      <td>via WebOodi.</td>\n",
       "      <td>2018-09-19</td>\n",
       "      <td>Students can replace this capstone course by p...</td>\n",
       "      <td>Perttu KähäriNina GranqvistPaulina JunniGregor...</td>\n",
       "      <td>Perttu Kähäri Laura Peni Pekka Pälli Iiris Sai...</td>\n",
       "      <td>Periods I-II Töölö campus, periods IV-V Otanie...</td>\n",
       "      <td>course</td>\n",
       "      <td>Contact teaching :10-15 h (incl. closing semin...</td>\n",
       "    </tr>\n",
       "    <tr>\n",
       "      <th>1</th>\n",
       "      <td>1</td>\n",
       "      <td>The minimum number of participants is 20</td>\n",
       "      <td>Learning diaries 50%Take-home exam 50%</td>\n",
       "      <td>True</td>\n",
       "      <td></td>\n",
       "      <td>21C00150</td>\n",
       "      <td>This introductory course gives a basic underst...</td>\n",
       "      <td>Degree Elective</td>\n",
       "      <td>1130843834</td>\n",
       "      <td>3</td>\n",
       "      <td>...</td>\n",
       "      <td>E706</td>\n",
       "      <td></td>\n",
       "      <td>Via WebOodi</td>\n",
       "      <td>2019-02-27</td>\n",
       "      <td></td>\n",
       "      <td>DSc Christa Uusi-Rauva, Professor Ingmar Björkman</td>\n",
       "      <td>Alice Wickström Ingmar Björkman</td>\n",
       "      <td>2018-2019; IV, Otaniemi Campus 2019-2020: no t...</td>\n",
       "      <td>course</td>\n",
       "      <td>Lectures: 33 hoursLearning diaries: 24 hoursTa...</td>\n",
       "    </tr>\n",
       "    <tr>\n",
       "      <th>2</th>\n",
       "      <td>2</td>\n",
       "      <td>Max. 100 students. Priority for management stu...</td>\n",
       "      <td>Final exam: 40%Assignments: 30%Learning diary:...</td>\n",
       "      <td>True</td>\n",
       "      <td></td>\n",
       "      <td>21C00350</td>\n",
       "      <td>Throughout this course, we will be covering di...</td>\n",
       "      <td>Bachelor: Management HR specialization area Co...</td>\n",
       "      <td>1125857456</td>\n",
       "      <td>6</td>\n",
       "      <td>...</td>\n",
       "      <td>E706</td>\n",
       "      <td>It is recommended that the students have basic...</td>\n",
       "      <td>WebOodi</td>\n",
       "      <td>2018-10-30</td>\n",
       "      <td>21C00300 Henkilöstöjohtaminen</td>\n",
       "      <td>Kathrin Sele</td>\n",
       "      <td>Kathrin Sele</td>\n",
       "      <td>Period II (2018-2019), Otaniemi campusPeriod I...</td>\n",
       "      <td>course</td>\n",
       "      <td>Lectures 30h presence (obligatory classroom pr...</td>\n",
       "    </tr>\n",
       "    <tr>\n",
       "      <th>3</th>\n",
       "      <td>3</td>\n",
       "      <td></td>\n",
       "      <td></td>\n",
       "      <td>True</td>\n",
       "      <td></td>\n",
       "      <td>21C03000</td>\n",
       "      <td>The course is taught by a visiting lecturer an...</td>\n",
       "      <td>B.Sc. Management minor</td>\n",
       "      <td>1133021737</td>\n",
       "      <td>3-6</td>\n",
       "      <td>...</td>\n",
       "      <td>E706</td>\n",
       "      <td></td>\n",
       "      <td>via WebOodi</td>\n",
       "      <td>2019-01-09</td>\n",
       "      <td></td>\n",
       "      <td>The course is taught by a visiting lecturer. 2...</td>\n",
       "      <td>Mikko Martela</td>\n",
       "      <td>2018-2019: III, Otaniemi campusNo teaching 201...</td>\n",
       "      <td>course</td>\n",
       "      <td></td>\n",
       "    </tr>\n",
       "    <tr>\n",
       "      <th>4</th>\n",
       "      <td>4</td>\n",
       "      <td></td>\n",
       "      <td>50% reflective learning diary50% final essay exam</td>\n",
       "      <td>True</td>\n",
       "      <td></td>\n",
       "      <td>21C10000</td>\n",
       "      <td>Must know: the concepts of \"concept and contex...</td>\n",
       "      <td>Aalto-course Management minor elective course</td>\n",
       "      <td>1121603277</td>\n",
       "      <td>6</td>\n",
       "      <td>...</td>\n",
       "      <td>E706</td>\n",
       "      <td>No specific prerequisites for attending the co...</td>\n",
       "      <td>Via Weboodi</td>\n",
       "      <td>2019-01-08</td>\n",
       "      <td></td>\n",
       "      <td>Esko Aho Kirsti Iivonen</td>\n",
       "      <td>Esko Aho Kirsti Iivonen</td>\n",
       "      <td>Period III (2018-2019)Period III (2019-2020)</td>\n",
       "      <td>course</td>\n",
       "      <td>Attending lectures 24h (not compulsory but hig...</td>\n",
       "    </tr>\n",
       "  </tbody>\n",
       "</table>\n",
       "<p>5 rows × 30 columns</p>\n",
       "</div>"
      ],
      "text/plain": [
       "   index                              additionalInformation  \\\n",
       "0      0  Compulsory attendance in all class sessions an...   \n",
       "1      1           The minimum number of participants is 20   \n",
       "2      2  Max. 100 students. Priority for management stu...   \n",
       "3      3                                                      \n",
       "4      4                                                      \n",
       "\n",
       "                                    assesmentMethods  availableEnglish  \\\n",
       "0           100 % assignments (group and individual)              True   \n",
       "1             Learning diaries 50%Take-home exam 50%              True   \n",
       "2  Final exam: 40%Assignments: 30%Learning diary:...              True   \n",
       "3                                                                 True   \n",
       "4  50% reflective learning diary50% final essay exam              True   \n",
       "\n",
       "  cefrLevel      code                                            content  \\\n",
       "0            20E99904  The course consists of an applied, real-life p...   \n",
       "1            21C00150  This introductory course gives a basic underst...   \n",
       "2            21C00350  Throughout this course, we will be covering di...   \n",
       "3            21C03000  The course is taught by a visiting lecturer an...   \n",
       "4            21C10000  Must know: the concepts of \"concept and contex...   \n",
       "\n",
       "                                        courseStatus  courseUnitId credits  \\\n",
       "0  Mandatory course in the Master¿s programs of B...    1125574316       6   \n",
       "1                                    Degree Elective    1130843834       3   \n",
       "2  Bachelor: Management HR specialization area Co...    1125857456       6   \n",
       "3                           B.Sc. Management minor      1133021737     3-6   \n",
       "4    Aalto-course Management minor elective course      1121603277       6   \n",
       "\n",
       "                         ...                         organizationId  \\\n",
       "0                        ...                                   E701   \n",
       "1                        ...                                   E706   \n",
       "2                        ...                                   E706   \n",
       "3                        ...                                   E706   \n",
       "4                        ...                                   E706   \n",
       "\n",
       "                                      prerequisities  registration  \\\n",
       "0  Most Master¿s Programme studies have to be com...  via WebOodi.   \n",
       "1                                                      Via WebOodi   \n",
       "2  It is recommended that the students have basic...       WebOodi   \n",
       "3                                                      via WebOodi   \n",
       "4  No specific prerequisites for attending the co...   Via Weboodi   \n",
       "\n",
       "    startDate                                        substitutes  \\\n",
       "0  2018-09-19  Students can replace this capstone course by p...   \n",
       "1  2019-02-27                                                      \n",
       "2  2018-10-30                      21C00300 Henkilöstöjohtaminen   \n",
       "3  2019-01-09                                                      \n",
       "4  2019-01-08                                                      \n",
       "\n",
       "                                     teacherInCharge  \\\n",
       "0  Perttu KähäriNina GranqvistPaulina JunniGregor...   \n",
       "1  DSc Christa Uusi-Rauva, Professor Ingmar Björkman   \n",
       "2                                       Kathrin Sele   \n",
       "3  The course is taught by a visiting lecturer. 2...   \n",
       "4                            Esko Aho Kirsti Iivonen   \n",
       "\n",
       "                                            teachers  \\\n",
       "0  Perttu Kähäri Laura Peni Pekka Pälli Iiris Sai...   \n",
       "1                    Alice Wickström Ingmar Björkman   \n",
       "2                                       Kathrin Sele   \n",
       "3                                      Mikko Martela   \n",
       "4                            Esko Aho Kirsti Iivonen   \n",
       "\n",
       "                                      teachingPeriod    type  \\\n",
       "0  Periods I-II Töölö campus, periods IV-V Otanie...  course   \n",
       "1  2018-2019; IV, Otaniemi Campus 2019-2020: no t...  course   \n",
       "2  Period II (2018-2019), Otaniemi campusPeriod I...  course   \n",
       "3  2018-2019: III, Otaniemi campusNo teaching 201...  course   \n",
       "4       Period III (2018-2019)Period III (2019-2020)  course   \n",
       "\n",
       "                                            workload  \n",
       "0  Contact teaching :10-15 h (incl. closing semin...  \n",
       "1  Lectures: 33 hoursLearning diaries: 24 hoursTa...  \n",
       "2  Lectures 30h presence (obligatory classroom pr...  \n",
       "3                                                     \n",
       "4  Attending lectures 24h (not compulsory but hig...  \n",
       "\n",
       "[5 rows x 30 columns]"
      ]
     },
     "execution_count": 41,
     "metadata": {},
     "output_type": "execute_result"
    }
   ],
   "source": [
    "#read the course info\n",
    "courses=pd.read_csv('../Data/filtered_courses.csv')\n",
    "#fix string list to make it just a string\n",
    "courses['teachers']=courses['teachers'].str.replace(\"[\\[,'\\]]\", '')\n",
    "courses=courses.fillna('')\n",
    "print(\"Number of courses:\",len(courses),\"\\n\")\n",
    "courses.head()"
   ]
  },
  {
   "cell_type": "code",
   "execution_count": 42,
   "metadata": {},
   "outputs": [],
   "source": [
    "# bla='creating stories and narratives'\n",
    "# courses['name_low'].str.contains(r'^%s$'%bla).any()"
   ]
  },
  {
   "cell_type": "code",
   "execution_count": 43,
   "metadata": {},
   "outputs": [],
   "source": [
    "def check_startdate(df):\n",
    "    \"\"\"Check if course starts in future\"\"\"\n",
    "    df['startDate']=pd.to_datetime(df['startDate'])\n",
    "    now=datetime.datetime.now()\n",
    "    return df[df['startDate']>=now]"
   ]
  },
  {
   "cell_type": "code",
   "execution_count": 44,
   "metadata": {},
   "outputs": [],
   "source": [
    "#create stemmer and tokenizer, to be used by tf-idf\n",
    "#copied from https://github.com/senticr/SentiCR/blob/master/SentiCR/SentiCR.py\n",
    "stemmer =SnowballStemmer(\"english\")\n",
    "\n",
    "def stem_tokens(tokens):\n",
    "    stemmed = []\n",
    "    for item in tokens:\n",
    "        stemmed.append(stemmer.stem(item))\n",
    "    return stemmed\n",
    "\n",
    "def tokenize_and_stem(text):\n",
    "    tokens = word_tokenize(text)\n",
    "    stems = stem_tokens(tokens)\n",
    "    return stems"
   ]
  },
  {
   "cell_type": "code",
   "execution_count": 45,
   "metadata": {},
   "outputs": [],
   "source": [
    "def top_tfidf(ind,tfidfvec,tfidf_matrix,n_tok=10):\n",
    "    #tfidfvec,tfidf_matrix=define_tfidf(df,True,'english',False,None)\n",
    "    features=tfidfvec.get_feature_names()\n",
    "    course_tfidf=np.squeeze(tfidf_matrix[ind].toarray())\n",
    "    sorted_tfidf=np.argsort(-course_tfidf) #minus cause want descending order\n",
    "    return [(features[i],course_tfidf[i]) for i in sorted_tfidf[:n_tok]]"
   ]
  },
  {
   "cell_type": "code",
   "execution_count": 46,
   "metadata": {},
   "outputs": [],
   "source": [
    "def get_mostsim(user_input,courses_ed,indices,sim):\n",
    "    \"\"\"Get the most similar courses for the input\"\"\"\n",
    "\n",
    "    # Get index of course given title\n",
    "    idx = indices[user_input]\n",
    "    \n",
    "    #Get similarity of course to all other courses\n",
    "    # structure is list of (index, similarity)\n",
    "    sim_row = list(enumerate(sim[idx]))\n",
    "\n",
    "    #sort the courses by descending score\n",
    "    sim_sorted = sorted(sim_row, key=lambda x: x[1], reverse=True)\n",
    "\n",
    "    sim_sorted=[sim_sorted[i] for i in range(len(sim_sorted)) if courses_ed['name_low'].iloc[sim_sorted[i][0]] not in history_names]\n",
    "    sim_indices = [i[0] for i in sim_sorted[1:]]\n",
    "    sim_scores=[i[1] for i in sim_sorted[1:]] \n",
    "\n",
    "    return sim_indices,sim_scores"
   ]
  },
  {
   "cell_type": "code",
   "execution_count": 48,
   "metadata": {},
   "outputs": [],
   "source": [
    "input_columns=['name','content']#['additionalInformation', 'assesmentMethods','content','courseStatus','credits','gradingScale','learningOutcomes','level','literature','organizationId','prerequisities','teacherInCharge','type','workload']#['content','name']\n",
    "future=False\n",
    "meas='cosine'\n",
    "stopwords='english'\n",
    "smooth=True\n",
    "sublin=False\n",
    "tokenize=tokenize_and_stem"
   ]
  },
  {
   "cell_type": "code",
   "execution_count": null,
   "metadata": {},
   "outputs": [],
   "source": [
    "courses.columns"
   ]
  },
  {
   "cell_type": "code",
   "execution_count": null,
   "metadata": {},
   "outputs": [],
   "source": [
    "courses['name_low']=courses['name'].str.lower()\n",
    "courses['name_low']=courses['name_low'].str.strip()"
   ]
  },
  {
   "cell_type": "code",
   "execution_count": null,
   "metadata": {},
   "outputs": [],
   "source": [
    "courses=courses.astype(str)"
   ]
  },
  {
   "cell_type": "code",
   "execution_count": null,
   "metadata": {},
   "outputs": [],
   "source": [
    "courses['combined']=courses[input_columns].apply(lambda x: ' '.join(x), axis=1)"
   ]
  },
  {
   "cell_type": "code",
   "execution_count": null,
   "metadata": {},
   "outputs": [],
   "source": [
    "#history tinka\n",
    "history_names=['business and society','web software development','magnificent life','creating stories and narratives','digital workshop basics','machine learning: basic principles','algorithmic methods of data mining','machine learning: advanced probabilistic methods','information visualization','deep learning','law in digital society','bayesian data analysis','sustainable built environment','state of the world and development','finnish 1a','finnish 1b','finnish 2a']#['artificial intelligence','law in digital society','machine learning: advanced probabilistic methods','creating stories and narratives']"
   ]
  },
  {
   "cell_type": "code",
   "execution_count": null,
   "metadata": {},
   "outputs": [],
   "source": [
    "#change from using names to using course codes?"
   ]
  },
  {
   "cell_type": "code",
   "execution_count": null,
   "metadata": {},
   "outputs": [],
   "source": [
    "#history Jukka\n",
    "#history_names=['theoretical computer science','computer graphics','information security','operating systems','linear algebra and differential equations','fourier analysis','matrix algebra','differential and integral calculus 1 (sci)','foundations of discrete mathematics','first course in probability and statistics','principles of algorithmic techniques','discrete models and search','machine learning: basic principles','declarative programming','seminar in computer science algorithms','special course in copmuter science gnetic algorithms','individual studies in computer science hands-on natural language processing study group','scalable cloud computing','mobile systems programming','advanced course in algorithms','distributed algorithms','computational complexity theory','programming parallel computers','algorithmic methods of data mining','artificial intelligence','machine learning: advanced probabilistic methods','information visualization','computer vision','speech recognition p','reinforcement learning']"
   ]
  },
  {
   "cell_type": "code",
   "execution_count": null,
   "metadata": {},
   "outputs": [],
   "source": [
    "len(history_names)"
   ]
  },
  {
   "cell_type": "code",
   "execution_count": null,
   "metadata": {},
   "outputs": [],
   "source": [
    "history_courses=courses[courses['name_low'].isin(history_names)]"
   ]
  },
  {
   "cell_type": "code",
   "execution_count": null,
   "metadata": {},
   "outputs": [],
   "source": [
    "#history_courses.columns"
   ]
  },
  {
   "cell_type": "code",
   "execution_count": null,
   "metadata": {},
   "outputs": [],
   "source": [
    "#history_courses"
   ]
  },
  {
   "cell_type": "code",
   "execution_count": null,
   "metadata": {},
   "outputs": [],
   "source": [
    "#list(history_courses['name'])"
   ]
  },
  {
   "cell_type": "code",
   "execution_count": null,
   "metadata": {},
   "outputs": [],
   "source": [
    "#courses from history that do not occur in dataset\n",
    "#[i for i in history_names if i not in list(history_courses['name_low'])]"
   ]
  },
  {
   "cell_type": "code",
   "execution_count": null,
   "metadata": {},
   "outputs": [],
   "source": []
  },
  {
   "cell_type": "code",
   "execution_count": null,
   "metadata": {},
   "outputs": [],
   "source": [
    "#top tfidfs from history\n",
    "top_tfidf(1212,tfidf_all,tfidf_matrix,10)"
   ]
  },
  {
   "cell_type": "code",
   "execution_count": null,
   "metadata": {},
   "outputs": [],
   "source": [
    "histo_all=' '.join(history_courses['combined'])"
   ]
  },
  {
   "cell_type": "code",
   "execution_count": null,
   "metadata": {},
   "outputs": [],
   "source": [
    "' '.join((histo_all,'hello i am cool'))"
   ]
  },
  {
   "cell_type": "code",
   "execution_count": null,
   "metadata": {},
   "outputs": [],
   "source": [
    "courses_ed=courses.append({'combined':histo_all,'name_low':'history'},ignore_index=True)"
   ]
  },
  {
   "cell_type": "code",
   "execution_count": null,
   "metadata": {},
   "outputs": [],
   "source": [
    "#define the tf-idf vectorizer\n",
    "tfidf_all = TfidfVectorizer(stop_words=stopwords,smooth_idf=smooth,sublinear_tf=sublin,tokenizer=tokenize)\n",
    "#get the tf-idf score for each word in each ontent description of each course\n",
    "tfidf_matrix = tfidf_all.fit_transform(courses_ed['combined'])"
   ]
  },
  {
   "cell_type": "code",
   "execution_count": null,
   "metadata": {},
   "outputs": [],
   "source": [
    "#Construct a reverse map of indices and courses\n",
    "# we use this to map index to title and the other way around\n",
    "indices = pd.Series(courses_ed.index, index=courses_ed['name_low'])"
   ]
  },
  {
   "cell_type": "code",
   "execution_count": null,
   "metadata": {},
   "outputs": [],
   "source": [
    "sim = linear_kernel(tfidf_matrix, tfidf_matrix)"
   ]
  },
  {
   "cell_type": "code",
   "execution_count": null,
   "metadata": {},
   "outputs": [],
   "source": [
    "sim_indices,sim_scores=get_mostsim('history',courses_ed,indices,sim)"
   ]
  },
  {
   "cell_type": "code",
   "execution_count": null,
   "metadata": {},
   "outputs": [],
   "source": [
    "urls=['https://oodi.aalto.fi/a/opintjakstied.jsp?Kieli=6&html=1&Tunniste='+courses_ed['code'].iloc[i] for i in sim_indices[:10]]"
   ]
  },
  {
   "cell_type": "code",
   "execution_count": null,
   "metadata": {},
   "outputs": [],
   "source": [
    "courses_ed['name'].iloc[sim_indices[:10]],urls,sim_scores[:10]"
   ]
  },
  {
   "cell_type": "code",
   "execution_count": null,
   "metadata": {},
   "outputs": [],
   "source": [
    "[top_tfidf(ind,tfidf_all,tfidf_matrix,1) for ind in sim_indices[:10]]"
   ]
  },
  {
   "cell_type": "code",
   "execution_count": null,
   "metadata": {},
   "outputs": [],
   "source": [
    "def recom_freetext(user_input,courses,input_columns=['content','name'],future=False,meas='cosine',stopwords='english',smooth=True,sublin=False,tokenize=None):\n",
    "    \"\"\"\n",
    "    Give recommendations based on the user input\n",
    "    user_input: string user inputs\n",
    "    courses: DataFrame with the courses\n",
    "    input_columns: the columns of the courses dataframe we want to consider\n",
    "    future: if True only recommend courses taking place in the future\n",
    "    meas: indicates the similarity measure we use\n",
    "    stopwords: indicates which stopwords should be removed\n",
    "    smooth: whether to use smooth idf\n",
    "    sublin: whether to use sublinear TF\n",
    "    tokenize: whether to tokenize the input\n",
    "    \"\"\"\n",
    "    user_input=user_input.lower()\n",
    "    #create one column that contains all info we consider per course\n",
    "    courses['combined']=courses[input_columns].apply(lambda x: ' '.join(x), axis=1)\n",
    "    #some preprocessing on the name (title of courses)\n",
    "    courses['name_low']=courses['name'].str.lower()\n",
    "    courses['name_low']=courses['name_low'].str.strip()\n",
    "    #check if user input is a course or not\n",
    "    if not courses['name_low'].str.contains(r'^%s$'%user_input).any():\n",
    "        print('Not a course')\n",
    "        courses=courses.append({'combined':user_input,'name_low':user_input},ignore_index=True)\n",
    "    else:\n",
    "        print('A course')\n",
    "\n",
    "    #create dataframe with courses that meet the requirements \n",
    "    if future:\n",
    "        courses_req=check_startdate(courses)\n",
    "    else:\n",
    "        courses_req=courses\n",
    "\n",
    "    #define the tf-idf vectorizer\n",
    "    tfidf_all = TfidfVectorizer(stop_words=stopwords,smooth_idf=smooth,sublinear_tf=sublin,tokenizer=tokenize)\n",
    "    #get the tf-idf score for each word in each ontent description of each course\n",
    "    tfidf_matrix_all = tfidf_all.fit_transform(courses['combined'])\n",
    "    \n",
    "    #do the same but with only the courses that meet the requirements. However, use the vocabulary from the list of all courses\n",
    "    tfidf_req=TfidfVectorizer(use_idf=True,vocabulary=tfidf_all.vocabulary_,stop_words=stopwords,smooth_idf=smooth,sublinear_tf=sublin,tokenizer=tokenize)\n",
    "    tfidf_matrix_req=tfidf_req.fit_transform(courses_req['combined'])\n",
    "    \n",
    "    #Construct a reverse map of indices and courses\n",
    "    # we use this to map index to title and the other way around\n",
    "    indices = pd.Series(courses_req.index, index=courses_req['name_low'])\n",
    "    \n",
    "    #get the similarity scores\n",
    "    if meas=='cosine':\n",
    "        sim = linear_kernel(tfidf_matrix_req, tfidf_matrix_req)\n",
    "    sim_indices,sim_scores=get_mostsim(user_input,indices,sim)\n",
    "    urls=['https://oodi.aalto.fi/a/opintjakstied.jsp?Kieli=6&html=1&Tunniste='+courses_req['code'].iloc[i] for i in sim_indices[:10]]\n",
    "    return courses_req['name'].iloc[sim_indices[:10]],urls,sim_scores[:10]"
   ]
  },
  {
   "cell_type": "code",
   "execution_count": null,
   "metadata": {},
   "outputs": [],
   "source": [
    "def get_recom(user_input):\n",
    "    df=pd.read_csv('../Data/filtered_courses.csv')\n",
    "    df['content']=df['content'].fillna('')\n",
    "    course_titles,urls,similarities=recom_freetext(user_input,df)\n",
    "    return course_titles, urls,similarities"
   ]
  },
  {
   "cell_type": "code",
   "execution_count": null,
   "metadata": {},
   "outputs": [],
   "source": [
    "get_recom('artificial intelligence')"
   ]
  },
  {
   "cell_type": "code",
   "execution_count": null,
   "metadata": {},
   "outputs": [],
   "source": []
  },
  {
   "cell_type": "code",
   "execution_count": null,
   "metadata": {},
   "outputs": [],
   "source": []
  }
 ],
 "metadata": {
  "kernelspec": {
   "display_name": "Python 3",
   "language": "python",
   "name": "python3"
  },
  "language_info": {
   "codemirror_mode": {
    "name": "ipython",
    "version": 3
   },
   "file_extension": ".py",
   "mimetype": "text/x-python",
   "name": "python",
   "nbconvert_exporter": "python",
   "pygments_lexer": "ipython3",
   "version": "3.6.3"
  }
 },
 "nbformat": 4,
 "nbformat_minor": 2
}
