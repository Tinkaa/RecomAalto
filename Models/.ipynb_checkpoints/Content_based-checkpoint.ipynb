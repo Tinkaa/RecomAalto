{
 "cells": [
  {
   "cell_type": "markdown",
   "metadata": {},
   "source": [
    "### Content-Based Filtering\n",
    "This notebook implements a simple version of content-based recommendation.  \n",
    "Content-based filtering is one of the two most common methods, next to collaborative filtering.  \n",
    "It uses as input data on the items (in our case the courses). It then calculates similarity between each of the item, and recommends the items with the highest similarity.  \n",
    "It has been shown to work pretty well and an advantage is that we only need data on the courses and not on the users. \n",
    "On the other hand, this means that it is not personalized and it often is hard to suggest things that are different than the input. \n",
    "\n",
    "This is only a test (but gives reasonable results). \n",
    "The code was largely inspired by and partly copied from https://www.datacamp.com/community/tutorials/recommender-systems-python"
   ]
  },
  {
   "cell_type": "code",
   "execution_count": 79,
   "metadata": {
    "collapsed": true
   },
   "outputs": [],
   "source": [
    "#import the needed packages\n",
    "import pandas as pd\n",
    "import numpy as np\n",
    "from sklearn.feature_extraction.text import TfidfVectorizer\n",
    "# Import linear_kernel\n",
    "from sklearn.metrics.pairwise import linear_kernel\n",
    "from IPython.display import display"
   ]
  },
  {
   "cell_type": "code",
   "execution_count": 15,
   "metadata": {
    "collapsed": true
   },
   "outputs": [],
   "source": [
    "#to show all columns\n",
    "# pd.set_option('display.max_columns', None)  \n",
    "#o show full info per column\n",
    "# pd.set_option('display.max_colwidth', -1)"
   ]
  },
  {
   "cell_type": "code",
   "execution_count": 16,
   "metadata": {},
   "outputs": [
    {
     "name": "stdout",
     "output_type": "stream",
     "text": [
      "Number of courses: 1212 \n",
      "\n"
     ]
    },
    {
     "data": {
      "text/html": [
       "<div>\n",
       "<style scoped>\n",
       "    .dataframe tbody tr th:only-of-type {\n",
       "        vertical-align: middle;\n",
       "    }\n",
       "\n",
       "    .dataframe tbody tr th {\n",
       "        vertical-align: top;\n",
       "    }\n",
       "\n",
       "    .dataframe thead th {\n",
       "        text-align: right;\n",
       "    }\n",
       "</style>\n",
       "<table border=\"1\" class=\"dataframe\">\n",
       "  <thead>\n",
       "    <tr style=\"text-align: right;\">\n",
       "      <th></th>\n",
       "      <th>index</th>\n",
       "      <th>additionalInformation</th>\n",
       "      <th>assesmentMethods</th>\n",
       "      <th>availableEnglish</th>\n",
       "      <th>cefrLevel</th>\n",
       "      <th>code</th>\n",
       "      <th>content</th>\n",
       "      <th>courseStatus</th>\n",
       "      <th>courseUnitId</th>\n",
       "      <th>credits</th>\n",
       "      <th>...</th>\n",
       "      <th>organizationId</th>\n",
       "      <th>prerequisities</th>\n",
       "      <th>registration</th>\n",
       "      <th>startDate</th>\n",
       "      <th>substitutes</th>\n",
       "      <th>teacherInCharge</th>\n",
       "      <th>teachers</th>\n",
       "      <th>teachingPeriod</th>\n",
       "      <th>type</th>\n",
       "      <th>workload</th>\n",
       "    </tr>\n",
       "  </thead>\n",
       "  <tbody>\n",
       "    <tr>\n",
       "      <th>0</th>\n",
       "      <td>0</td>\n",
       "      <td>Compulsory attendance in all class sessions an...</td>\n",
       "      <td>100 % assignments (group and individual)</td>\n",
       "      <td>True</td>\n",
       "      <td>NaN</td>\n",
       "      <td>20E99904</td>\n",
       "      <td>The course consists of an applied, real-life p...</td>\n",
       "      <td>Mandatory course in the Master¿s programs of B...</td>\n",
       "      <td>1125574316</td>\n",
       "      <td>6</td>\n",
       "      <td>...</td>\n",
       "      <td>E701</td>\n",
       "      <td>Most Master¿s Programme studies have to be com...</td>\n",
       "      <td>via WebOodi.</td>\n",
       "      <td>2018-09-19</td>\n",
       "      <td>Students can replace this capstone course by p...</td>\n",
       "      <td>Perttu KähäriNina GranqvistPaulina JunniGregor...</td>\n",
       "      <td>['Perttu Kähäri', 'Laura Peni', 'Pekka Pälli',...</td>\n",
       "      <td>Periods I-II Töölö campus, periods IV-V Otanie...</td>\n",
       "      <td>course</td>\n",
       "      <td>Contact teaching :10-15 h (incl. closing semin...</td>\n",
       "    </tr>\n",
       "    <tr>\n",
       "      <th>1</th>\n",
       "      <td>1</td>\n",
       "      <td>The minimum number of participants is 20</td>\n",
       "      <td>Learning diaries 50%Take-home exam 50%</td>\n",
       "      <td>True</td>\n",
       "      <td>NaN</td>\n",
       "      <td>21C00150</td>\n",
       "      <td>This introductory course gives a basic underst...</td>\n",
       "      <td>Degree Elective</td>\n",
       "      <td>1130843834</td>\n",
       "      <td>3</td>\n",
       "      <td>...</td>\n",
       "      <td>E706</td>\n",
       "      <td>NaN</td>\n",
       "      <td>Via WebOodi</td>\n",
       "      <td>2019-02-27</td>\n",
       "      <td>NaN</td>\n",
       "      <td>DSc Christa Uusi-Rauva, Professor Ingmar Björkman</td>\n",
       "      <td>['Alice Wickström', 'Ingmar Björkman']</td>\n",
       "      <td>2018-2019; IV, Otaniemi Campus 2019-2020: no t...</td>\n",
       "      <td>course</td>\n",
       "      <td>Lectures: 33 hoursLearning diaries: 24 hoursTa...</td>\n",
       "    </tr>\n",
       "    <tr>\n",
       "      <th>2</th>\n",
       "      <td>2</td>\n",
       "      <td>Max. 100 students. Priority for management stu...</td>\n",
       "      <td>Final exam: 40%Assignments: 30%Learning diary:...</td>\n",
       "      <td>True</td>\n",
       "      <td>NaN</td>\n",
       "      <td>21C00350</td>\n",
       "      <td>Throughout this course, we will be covering di...</td>\n",
       "      <td>Bachelor: Management HR specialization area Co...</td>\n",
       "      <td>1125857456</td>\n",
       "      <td>6</td>\n",
       "      <td>...</td>\n",
       "      <td>E706</td>\n",
       "      <td>It is recommended that the students have basic...</td>\n",
       "      <td>WebOodi</td>\n",
       "      <td>2018-10-30</td>\n",
       "      <td>21C00300 Henkilöstöjohtaminen</td>\n",
       "      <td>Kathrin Sele</td>\n",
       "      <td>['Kathrin Sele']</td>\n",
       "      <td>Period II (2018-2019), Otaniemi campusPeriod I...</td>\n",
       "      <td>course</td>\n",
       "      <td>Lectures 30h presence (obligatory classroom pr...</td>\n",
       "    </tr>\n",
       "    <tr>\n",
       "      <th>3</th>\n",
       "      <td>3</td>\n",
       "      <td>NaN</td>\n",
       "      <td>NaN</td>\n",
       "      <td>True</td>\n",
       "      <td>NaN</td>\n",
       "      <td>21C03000</td>\n",
       "      <td>The course is taught by a visiting lecturer an...</td>\n",
       "      <td>B.Sc. Management minor</td>\n",
       "      <td>1133021737</td>\n",
       "      <td>3-6</td>\n",
       "      <td>...</td>\n",
       "      <td>E706</td>\n",
       "      <td>NaN</td>\n",
       "      <td>via WebOodi</td>\n",
       "      <td>2019-01-09</td>\n",
       "      <td>NaN</td>\n",
       "      <td>The course is taught by a visiting lecturer. 2...</td>\n",
       "      <td>['Mikko Martela']</td>\n",
       "      <td>2018-2019: III, Otaniemi campusNo teaching 201...</td>\n",
       "      <td>course</td>\n",
       "      <td>NaN</td>\n",
       "    </tr>\n",
       "    <tr>\n",
       "      <th>4</th>\n",
       "      <td>4</td>\n",
       "      <td>NaN</td>\n",
       "      <td>50% reflective learning diary50% final essay exam</td>\n",
       "      <td>True</td>\n",
       "      <td>NaN</td>\n",
       "      <td>21C10000</td>\n",
       "      <td>Must know: the concepts of \"concept and contex...</td>\n",
       "      <td>Aalto-course Management minor elective course</td>\n",
       "      <td>1121603277</td>\n",
       "      <td>6</td>\n",
       "      <td>...</td>\n",
       "      <td>E706</td>\n",
       "      <td>No specific prerequisites for attending the co...</td>\n",
       "      <td>Via Weboodi</td>\n",
       "      <td>2019-01-08</td>\n",
       "      <td>NaN</td>\n",
       "      <td>Esko Aho Kirsti Iivonen</td>\n",
       "      <td>['Esko Aho', 'Kirsti Iivonen']</td>\n",
       "      <td>Period III (2018-2019)Period III (2019-2020)</td>\n",
       "      <td>course</td>\n",
       "      <td>Attending lectures 24h (not compulsory but hig...</td>\n",
       "    </tr>\n",
       "  </tbody>\n",
       "</table>\n",
       "<p>5 rows × 30 columns</p>\n",
       "</div>"
      ],
      "text/plain": [
       "   index                              additionalInformation  \\\n",
       "0      0  Compulsory attendance in all class sessions an...   \n",
       "1      1           The minimum number of participants is 20   \n",
       "2      2  Max. 100 students. Priority for management stu...   \n",
       "3      3                                                NaN   \n",
       "4      4                                                NaN   \n",
       "\n",
       "                                    assesmentMethods  availableEnglish  \\\n",
       "0           100 % assignments (group and individual)              True   \n",
       "1             Learning diaries 50%Take-home exam 50%              True   \n",
       "2  Final exam: 40%Assignments: 30%Learning diary:...              True   \n",
       "3                                                NaN              True   \n",
       "4  50% reflective learning diary50% final essay exam              True   \n",
       "\n",
       "  cefrLevel      code                                            content  \\\n",
       "0       NaN  20E99904  The course consists of an applied, real-life p...   \n",
       "1       NaN  21C00150  This introductory course gives a basic underst...   \n",
       "2       NaN  21C00350  Throughout this course, we will be covering di...   \n",
       "3       NaN  21C03000  The course is taught by a visiting lecturer an...   \n",
       "4       NaN  21C10000  Must know: the concepts of \"concept and contex...   \n",
       "\n",
       "                                        courseStatus  courseUnitId credits  \\\n",
       "0  Mandatory course in the Master¿s programs of B...    1125574316       6   \n",
       "1                                    Degree Elective    1130843834       3   \n",
       "2  Bachelor: Management HR specialization area Co...    1125857456       6   \n",
       "3                           B.Sc. Management minor      1133021737     3-6   \n",
       "4    Aalto-course Management minor elective course      1121603277       6   \n",
       "\n",
       "                         ...                         organizationId  \\\n",
       "0                        ...                                   E701   \n",
       "1                        ...                                   E706   \n",
       "2                        ...                                   E706   \n",
       "3                        ...                                   E706   \n",
       "4                        ...                                   E706   \n",
       "\n",
       "                                      prerequisities  registration  \\\n",
       "0  Most Master¿s Programme studies have to be com...  via WebOodi.   \n",
       "1                                                NaN   Via WebOodi   \n",
       "2  It is recommended that the students have basic...       WebOodi   \n",
       "3                                                NaN   via WebOodi   \n",
       "4  No specific prerequisites for attending the co...   Via Weboodi   \n",
       "\n",
       "    startDate                                        substitutes  \\\n",
       "0  2018-09-19  Students can replace this capstone course by p...   \n",
       "1  2019-02-27                                                NaN   \n",
       "2  2018-10-30                      21C00300 Henkilöstöjohtaminen   \n",
       "3  2019-01-09                                                NaN   \n",
       "4  2019-01-08                                                NaN   \n",
       "\n",
       "                                     teacherInCharge  \\\n",
       "0  Perttu KähäriNina GranqvistPaulina JunniGregor...   \n",
       "1  DSc Christa Uusi-Rauva, Professor Ingmar Björkman   \n",
       "2                                       Kathrin Sele   \n",
       "3  The course is taught by a visiting lecturer. 2...   \n",
       "4                            Esko Aho Kirsti Iivonen   \n",
       "\n",
       "                                            teachers  \\\n",
       "0  ['Perttu Kähäri', 'Laura Peni', 'Pekka Pälli',...   \n",
       "1             ['Alice Wickström', 'Ingmar Björkman']   \n",
       "2                                   ['Kathrin Sele']   \n",
       "3                                  ['Mikko Martela']   \n",
       "4                     ['Esko Aho', 'Kirsti Iivonen']   \n",
       "\n",
       "                                      teachingPeriod    type  \\\n",
       "0  Periods I-II Töölö campus, periods IV-V Otanie...  course   \n",
       "1  2018-2019; IV, Otaniemi Campus 2019-2020: no t...  course   \n",
       "2  Period II (2018-2019), Otaniemi campusPeriod I...  course   \n",
       "3  2018-2019: III, Otaniemi campusNo teaching 201...  course   \n",
       "4       Period III (2018-2019)Period III (2019-2020)  course   \n",
       "\n",
       "                                            workload  \n",
       "0  Contact teaching :10-15 h (incl. closing semin...  \n",
       "1  Lectures: 33 hoursLearning diaries: 24 hoursTa...  \n",
       "2  Lectures 30h presence (obligatory classroom pr...  \n",
       "3                                                NaN  \n",
       "4  Attending lectures 24h (not compulsory but hig...  \n",
       "\n",
       "[5 rows x 30 columns]"
      ]
     },
     "execution_count": 16,
     "metadata": {},
     "output_type": "execute_result"
    }
   ],
   "source": [
    "#read the course info\n",
    "df=pd.read_csv('../Data/filtered_courses.csv')\n",
    "df['content']=df['content'].fillna('')\n",
    "print(\"Number of courses:\",len(df),\"\\n\")\n",
    "df.head()"
   ]
  },
  {
   "cell_type": "code",
   "execution_count": 17,
   "metadata": {},
   "outputs": [
    {
     "name": "stdout",
     "output_type": "stream",
     "text": [
      "name\n",
      "Capstone: Business Development Project    0\n",
      "Introduction to business                  1\n",
      "Human Resource Management                 2\n",
      "Current Issues in Leadership              3\n",
      "Business and Society                      4\n",
      "Managing Corporate Careers                5\n",
      "Doing Qualitative Research                6\n",
      "Gender and Diversity at Work              7\n",
      "Managing Mergers and Acquisitions         8\n",
      "Innovation Processes in Transition        9\n",
      "dtype: int64\n"
     ]
    }
   ],
   "source": [
    "#Construct a reverse map of indices and movie titles\n",
    "# we use this to map index to title and other way around\n",
    "indices = pd.Series(df.index, index=df['name'])\n",
    "print(indices[:10])"
   ]
  },
  {
   "cell_type": "markdown",
   "metadata": {},
   "source": [
    "#### Tf-idf\n",
    "We now use tf-idf to get a mapping of words in the document to a number that says something about the importance of the word. \n",
    "To be more precise, tf-idf is calcluated by #word appears/#words in document * #documents word appears\n",
    "See wiki for more info: https://en.wikipedia.org/wiki/Tf%E2%80%93idf\n",
    "Here we use the lazy version given by sklearn, which does all the preprocessing (tokenizing etc.) by itself"
   ]
  },
  {
   "cell_type": "code",
   "execution_count": 18,
   "metadata": {},
   "outputs": [
    {
     "name": "stdout",
     "output_type": "stream",
     "text": [
      "Shape of matrix: (1212, 6938)\n",
      "Number of unique tokens: 6938\n"
     ]
    }
   ],
   "source": [
    "#define the tf-idf vectorizer\n",
    "tfidf = TfidfVectorizer(stop_words='english')\n",
    "#get the tf-idf score for each word in each ontent description of each course\n",
    "tfidf_matrix = tfidf.fit_transform(df['content'])\n",
    "print(\"Shape of matrix:\",tfidf_matrix.shape)\n",
    "print(\"Number of unique tokens:\",tfidf_matrix.shape[1])"
   ]
  },
  {
   "cell_type": "markdown",
   "metadata": {},
   "source": [
    "#### Cosine similarity\n",
    "We now want to compute the similarity of the different courses.  \n",
    "Here, we use the cosine similarity. This is one of the common measures to calculate similarity.  \n",
    "Some other common ones are the Euclidean distance and the Pearson coefficient. It depends on the situation which one works best. "
   ]
  },
  {
   "cell_type": "code",
   "execution_count": 19,
   "metadata": {
    "collapsed": true
   },
   "outputs": [],
   "source": [
    "# Compute the cosine similarity matrix\n",
    "# We use the linear kernel of sklearn for this\n",
    "cosine_sim = linear_kernel(tfidf_matrix, tfidf_matrix)"
   ]
  },
  {
   "cell_type": "code",
   "execution_count": 20,
   "metadata": {},
   "outputs": [
    {
     "data": {
      "text/plain": [
       "array([[1.        , 0.06331961, 0.00273555, ..., 0.03626142, 0.01779766,\n",
       "        0.02844093],\n",
       "       [0.06331961, 1.        , 0.04472521, ..., 0.05631803, 0.00961036,\n",
       "        0.0327205 ],\n",
       "       [0.00273555, 0.04472521, 1.        , ..., 0.00875949, 0.00758236,\n",
       "        0.05219148],\n",
       "       ...,\n",
       "       [0.03626142, 0.05631803, 0.00875949, ..., 1.        , 0.07130622,\n",
       "        0.00303629],\n",
       "       [0.01779766, 0.00961036, 0.00758236, ..., 0.07130622, 1.        ,\n",
       "        0.00581591],\n",
       "       [0.02844093, 0.0327205 , 0.05219148, ..., 0.00303629, 0.00581591,\n",
       "        1.        ]])"
      ]
     },
     "execution_count": 20,
     "metadata": {},
     "output_type": "execute_result"
    }
   ],
   "source": [
    "cosine_sim"
   ]
  },
  {
   "cell_type": "markdown",
   "metadata": {},
   "source": [
    "We can now use this cosine similarity to get the courses that are most similar to the input course!"
   ]
  },
  {
   "cell_type": "code",
   "execution_count": 71,
   "metadata": {
    "collapsed": true
   },
   "outputs": [],
   "source": [
    "def get_mostsim(title,indices=indices,sim=cosine_sim):\n",
    "    \n",
    "    # Get index of course given title\n",
    "    idx = indices[title]\n",
    "\n",
    "    #Get similarity of course to all other courses\n",
    "    # structure is list of (index, similarity)\n",
    "    sim_row = list(enumerate(sim[idx]))\n",
    "    \n",
    "    #sort the courses by descending score\n",
    "    sim_sorted = sorted(sim_row, key=lambda x: x[1], reverse=True)\n",
    "\n",
    "    \n",
    "    sim_indices = [i[0] for i in sim_sorted[1:]]\n",
    "    sim_scores=[i[1] for i in sim_sorted[1:]]\n",
    "    \n",
    "    return sim_indices,sim_scores"
   ]
  },
  {
   "cell_type": "code",
   "execution_count": 72,
   "metadata": {},
   "outputs": [
    {
     "name": "stdout",
     "output_type": "stream",
     "text": [
      "429\n",
      "The 10 most similar courses for the course Artificial Intelligence\n",
      "402                              Declarative Programming\n",
      "64                            Capstone course: Marketing\n",
      "673                               Reinforcement learning\n",
      "708                            AI in health technologies\n",
      "430     Machine Learning: Advanced Probabilistic Methods\n",
      "921                       Computational inverse problems\n",
      "401                   Machine Learning: Basic Principles\n",
      "1071                                            Training\n",
      "1195                     Art and Artificial Intelligence\n",
      "1187                                     Design Learning\n",
      "Name: name, dtype: object\n",
      "Similarity scores\n",
      "[0.2270661141951742, 0.16058039039089853, 0.15006070317973458, 0.14938852706142705, 0.14410021166907916, 0.14290986102893344, 0.14178510803135097, 0.1355741332432976, 0.12374501553732745, 0.12244226856485471]\n"
     ]
    }
   ],
   "source": [
    "title='Artificial Intelligence'\n",
    "sim_indices,sim_scores=get_mostsim('Artificial Intelligence')\n",
    "# Print the 10 most similar courses\n",
    "print(\"The 10 most similar courses for the course\",title)\n",
    "print(df['name'].iloc[sim_indices[:10]])\n",
    "print(\"Similarity scores\")\n",
    "print(sim_scores[:10])"
   ]
  },
  {
   "cell_type": "code",
   "execution_count": 41,
   "metadata": {},
   "outputs": [
    {
     "name": "stdout",
     "output_type": "stream",
     "text": [
      "The 10 most similar courses for the course Managing Corporate Careers\n",
      "31                              Corporate Governance\n",
      "880                                Corporate Finance\n",
      "135     Tax Challenges for Multinational Enterprises\n",
      "1158                       Managing Innovative Sales\n",
      "854                             Corporate Governance\n",
      "527                      Game Design Basics Workshop\n",
      "87                                 Corporate Finance\n",
      "101                         Mergers and Acquisitions\n",
      "174           Corporate Responsibility Communication\n",
      "157                  CEMS Global Management Practice\n",
      "Name: name, dtype: object\n",
      "Similarity scores\n",
      "[0.12882109787384063, 0.11819161016557521, 0.09685054990094283, 0.09095382268695999, 0.08812908135418979, 0.08712414176048891, 0.08546154918545394, 0.0848332727417784, 0.078308558272884, 0.07779534342026469]\n",
      "The 10 most similar courses for the course Visual Cultures and Aesthetics in Digital Communication and Learning Designs\n",
      "757     Introduction to Intercultural Communication L ...\n",
      "978                                    Product and Form I\n",
      "481                           Exploring Narratives Studio\n",
      "476        Information Design Studio (Intermediate level)\n",
      "1088                                 Research and Writing\n",
      "1115                                       Nova Seminar I\n",
      "1187                                      Design Learning\n",
      "485                  Critical Perspectives on Photography\n",
      "902                  Differential and integral calculus 2\n",
      "1199                                   Design and Culture\n",
      "Name: name, dtype: object\n",
      "Similarity scores\n",
      "[0.24000615581684465, 0.17371717099275286, 0.1669322343988227, 0.14740506768360542, 0.14203140092675917, 0.14029010859004426, 0.13006212883762272, 0.125326088961211, 0.12175917964272365, 0.11878390196673887]\n",
      "The 10 most similar courses for the course Sustainability Tools for Building Designers\n",
      "956                     Advanced Printed Fabrics Workshop\n",
      "355                         Building Materials Technology\n",
      "1185                             Urban Challenge Studio 3\n",
      "197                           Design of Structures Basics\n",
      "209                    Design of Structures Spring Studio\n",
      "477            Information Design Studio (Advanced level)\n",
      "476        Information Design Studio (Intermediate level)\n",
      "311     Group Research Assignment in Functional Materi...\n",
      "186                                      Product analysis\n",
      "1187                                      Design Learning\n",
      "Name: name, dtype: object\n",
      "Similarity scores\n",
      "[0.24779415073147218, 0.24424607483997762, 0.2264431675526608, 0.2220590527449957, 0.21433272530238429, 0.209341590977569, 0.1996283528122348, 0.19459507793487407, 0.19408962322912054, 0.1874300682147289]\n",
      "The 10 most similar courses for the course Fluid Dynamics\n",
      "338                  Fluid Flow in Process Units\n",
      "562               Computational Fluid Dynamics L\n",
      "798               Modelling in Applied Mechanics\n",
      "924                    Computational mechanics 2\n",
      "903         Differential and integral calculus 3\n",
      "503             Advanced Rendering/3D Techniques\n",
      "648               Network Service Provisioning P\n",
      "378    Mechanics of Plate and Shell Structures L\n",
      "641                         Communication Theory\n",
      "918                Numerical matrix computations\n",
      "Name: name, dtype: object\n",
      "Similarity scores\n",
      "[0.13163305708670375, 0.1309294301479514, 0.11978967047190275, 0.11147241413056663, 0.10567223581367835, 0.07057078677113314, 0.0689592045774226, 0.06810028200664427, 0.06103019274798433, 0.04544753621058294]\n",
      "The 10 most similar courses for the course Introduction to Advanced Energy Solutions\n",
      "1014           Multi-disciplinary energy perspectives\n",
      "1015               Fundamentals of New Energy Sources\n",
      "575               Sustainable Building Energy Systems\n",
      "21                     Energy Business and Innovation\n",
      "1034              Advances in New Energy Technologies\n",
      "570     Process Integration and Energy Optimization L\n",
      "367            Design of Energy Efficient Buildings L\n",
      "690                An Introduction to Electric Energy\n",
      "308                  Materials for Renewable Energy P\n",
      "691                                      Smart Grid P\n",
      "Name: name, dtype: object\n",
      "Similarity scores\n",
      "[0.6269218336439889, 0.6020995056798737, 0.5089270074046114, 0.4829179741121128, 0.4593538385770433, 0.45449008147502473, 0.4337315194519311, 0.39492015814368037, 0.3310063628455165, 0.3138107377845777]\n"
     ]
    }
   ],
   "source": [
    "ra=indices.sample(5)\n",
    "for title,v in ra.items():\n",
    "    # Print the 10 most similar courses\n",
    "    sim_indices,sim_scores=get_mostsim(title)\n",
    "    print(\"The 10 most similar courses for the course\",title)\n",
    "    print(df['name'].iloc[sim_indices[:10]])\n",
    "    print(\"Similarity scores\")\n",
    "    print(sim_scores[:10])"
   ]
  },
  {
   "cell_type": "code",
   "execution_count": null,
   "metadata": {
    "collapsed": true
   },
   "outputs": [],
   "source": [
    "#seems to work pretty well! Several courses you would expect but don't really eadd something, some courses that might add something (Art and artificial intelligence), some courses that seem totally random but are not (capstone course: marketing)"
   ]
  },
  {
   "cell_type": "markdown",
   "metadata": {},
   "source": [
    "### Experimenting more with tf-idf\n",
    "Largely inspired by https://buhrmann.github.io/tfidf-analysis.html"
   ]
  },
  {
   "cell_type": "markdown",
   "metadata": {},
   "source": [
    "More links on tf-idf  \n",
    "https://scikit-learn.org/stable/modules/generated/sklearn.feature_extraction.text.TfidfVectorizer.html#sklearn.feature_extraction.text.TfidfVectorizer.fit_transform  \n",
    "https://stackoverflow.com/questions/35757560/sklearns-tfidfvectorizer-word-frequency  \n",
    "https://www.quora.com/How-does-TfidfVectorizer-work-in-laymans-terms  \n",
    "https://scikit-learn.org/stable/modules/generated/sklearn.feature_extraction.text.TfidfTransformer.html  \n",
    "https://scikit-learn.org/stable/modules/feature_extraction.html#text-feature-extraction  \n",
    "https://nlp.stanford.edu/IR-book/html/htmledition/tf-idf-weighting-1.html  "
   ]
  },
  {
   "cell_type": "code",
   "execution_count": 76,
   "metadata": {},
   "outputs": [],
   "source": [
    "def top_tfidf(ind,tfidfvec=tfidf,tfidfmatrix=tfidf_matrix,n_tok=10):\n",
    "    features=tfidfvec.get_feature_names()\n",
    "    course_tfidf=np.squeeze(tfidfmatrix[ind].toarray())\n",
    "    sorted_tfidf=np.argsort(-course_tfidf) #minus cause want descending order\n",
    "    return [(features[i],course_tfidf[i]) for i in sorted_tfidf[:n_tok]]"
   ]
  },
  {
   "cell_type": "code",
   "execution_count": 78,
   "metadata": {},
   "outputs": [
    {
     "name": "stdout",
     "output_type": "stream",
     "text": [
      "10 tokens with highest tf-idf for Artificial Intelligence\n"
     ]
    },
    {
     "data": {
      "text/plain": [
       "[('solving', 0.29926907106902434),\n",
       " ('logical', 0.28092653701559595),\n",
       " ('representations', 0.27159056146075444),\n",
       " ('machine', 0.2115488799139426),\n",
       " ('learning', 0.20487671875013339),\n",
       " ('problems', 0.17203409026085273),\n",
       " ('techniques', 0.15611608245605438),\n",
       " ('solver', 0.1549633629436502),\n",
       " ('adaptation', 0.1549633629436502),\n",
       " ('formulas', 0.14648135144176114)]"
      ]
     },
     "execution_count": 78,
     "metadata": {},
     "output_type": "execute_result"
    }
   ],
   "source": [
    "title='Artificial Intelligence'\n",
    "print(\"10 tokens with highest tf-idf for\",title)\n",
    "top_tfidf(indices[title])"
   ]
  },
  {
   "cell_type": "code",
   "execution_count": 82,
   "metadata": {},
   "outputs": [],
   "source": [
    "corpus = [\"The dog ate a sandwich and I ate a sandwich\",\n",
    "          \"The wizard transfigured a sandwich\"]\n",
    "vectorizer = TfidfVectorizer(stop_words='english',smooth_idf=False)\n",
    "tfidfs = vectorizer.fit_transform(corpus)"
   ]
  },
  {
   "cell_type": "code",
   "execution_count": 83,
   "metadata": {},
   "outputs": [
    {
     "data": {
      "text/plain": [
       "array([1.69314718, 1.69314718, 1.        , 1.69314718, 1.69314718])"
      ]
     },
     "execution_count": 83,
     "metadata": {},
     "output_type": "execute_result"
    }
   ],
   "source": [
    "vectorizer.idf_"
   ]
  },
  {
   "cell_type": "markdown",
   "metadata": {},
   "source": [
    "### Questions\n",
    "- sklearn preprocessing vs own one (see topic modelling)?\n",
    "- sklearn tf-idf vs doing by self (see link topic modelling)\n",
    "    - What about tokenization in tf-idf?\n",
    "- Try different similarity measures\n",
    "- Dive more into the working and mathematics of the methods I am using (tf-idf, cosine similarity)\n",
    "- Some funny things happen because of data, see MagLif below"
   ]
  },
  {
   "cell_type": "code",
   "execution_count": null,
   "metadata": {},
   "outputs": [],
   "source": [
    "#this course has no content --> all similarities are 0 --> just give first 10 courses\n",
    "sim_indices,sim_scores=get_mostsim('Magnificent Life')\n",
    "# Print the 10 most similar courses\n",
    "print(df['name'].iloc[sim_indices[:10]])\n",
    "print(\"Similarity scores\")\n",
    "print(sim_scores[:10])"
   ]
  }
 ],
 "metadata": {
  "kernelspec": {
   "display_name": "Python 3",
   "language": "python",
   "name": "python3"
  },
  "language_info": {
   "codemirror_mode": {
    "name": "ipython",
    "version": 3
   },
   "file_extension": ".py",
   "mimetype": "text/x-python",
   "name": "python",
   "nbconvert_exporter": "python",
   "pygments_lexer": "ipython3",
   "version": "3.6.3"
  }
 },
 "nbformat": 4,
 "nbformat_minor": 2
}
